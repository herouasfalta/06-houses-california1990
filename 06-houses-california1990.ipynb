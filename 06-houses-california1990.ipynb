{
 "cells": [
  {
   "cell_type": "markdown",
   "id": "GEqQaHzsZ_bA",
   "metadata": {
    "id": "GEqQaHzsZ_bA"
   },
   "source": [
    "## Предсказание стоимости жилья\n",
    "\n",
    "В  данном проекте необходимо обучить модель линейной регрессии на данных о жилье в Калифорнии в 1990 году. На основе данных нужно предсказать медианную стоимость дома в жилом массиве. Для оценки качества модели необходимо использовать метрики RMSE, MAE и R2."
   ]
  },
  {
   "cell_type": "markdown",
   "id": "572232e1",
   "metadata": {},
   "source": [
    "В колонках датасета содержатся следующие данные:\n",
    "- longitude — широта;\n",
    "- latitude — долгота;\n",
    "- housing_median_age — медианный возраст жителей жилого массива;\n",
    "- total_rooms — общее количество комнат в домах жилого массива;\n",
    "- total_bedrooms — общее количество спален в домах жилого массива;\n",
    "- population — количество человек, которые проживают в жилом массиве;\n",
    "- households — количество домовладений в жилом массиве;\n",
    "- median_income — медианный доход жителей жилого массива;\n",
    "- median_house_value — медианная стоимость дома в жилом массиве;\n",
    "- ocean_proximity — близость к океану."
   ]
  },
  {
   "cell_type": "markdown",
   "id": "53871372",
   "metadata": {
    "id": "53871372"
   },
   "source": [
    "# Подготовка данных"
   ]
  },
  {
   "cell_type": "code",
   "execution_count": 1,
   "id": "df92e3ec",
   "metadata": {
    "id": "df92e3ec"
   },
   "outputs": [],
   "source": [
    "import pandas as pd \n",
    "import numpy as np\n",
    "import pyspark\n",
    "from pyspark.sql import SparkSession\n",
    "from pyspark.sql.types import *\n",
    "import pyspark.sql.functions as F\n",
    "from pyspark.sql.functions import col\n",
    "from pyspark.sql.functions import isnull\n",
    "from pyspark.sql.functions import mean\n",
    "from pyspark.ml.feature import StringIndexer, VectorAssembler, StandardScaler\n",
    "from pyspark.ml.regression import LinearRegression\n",
    "from pyspark.ml.evaluation import BinaryClassificationEvaluator, MulticlassClassificationEvaluator\n",
    "from pyspark.mllib.evaluation import RegressionMetrics\n",
    "\n",
    "pyspark_version = pyspark.__version__\n",
    "if int(pyspark_version[:1]) == 3:\n",
    "    from pyspark.ml.feature import OneHotEncoder    \n",
    "elif int(pyspark_version[:1]) == 2:\n",
    "    from pyspark.ml.feature import OneHotEncodeEstimator\n",
    "        \n",
    "RANDOM_SEED = 2022"
   ]
  },
  {
   "cell_type": "code",
   "execution_count": 2,
   "id": "c3a8c512",
   "metadata": {},
   "outputs": [],
   "source": [
    "spark = SparkSession.builder \\\n",
    "                    .master(\"local\") \\\n",
    "                    .appName(\"EDA California Housing\") \\\n",
    "                    .getOrCreate()"
   ]
  },
  {
   "cell_type": "code",
   "execution_count": 3,
   "id": "c2c05a7a",
   "metadata": {},
   "outputs": [
    {
     "name": "stderr",
     "output_type": "stream",
     "text": [
      "[Stage 1:>                                                          (0 + 1) / 1]\r"
     ]
    },
    {
     "name": "stdout",
     "output_type": "stream",
     "text": [
      "root\n",
      " |-- longitude: double (nullable = true)\n",
      " |-- latitude: double (nullable = true)\n",
      " |-- housing_median_age: double (nullable = true)\n",
      " |-- total_rooms: double (nullable = true)\n",
      " |-- total_bedrooms: double (nullable = true)\n",
      " |-- population: double (nullable = true)\n",
      " |-- households: double (nullable = true)\n",
      " |-- median_income: double (nullable = true)\n",
      " |-- median_house_value: double (nullable = true)\n",
      " |-- ocean_proximity: string (nullable = true)\n",
      "\n"
     ]
    },
    {
     "name": "stderr",
     "output_type": "stream",
     "text": [
      "                                                                                \r"
     ]
    }
   ],
   "source": [
    "df = spark.read.load('/datasets/housing.csv', \n",
    "                                            format=\"csv\", sep=\",\", inferSchema=True, header=\"true\")\n",
    "df.printSchema()"
   ]
  },
  {
   "cell_type": "markdown",
   "id": "1dabecc3",
   "metadata": {},
   "source": [
    "### Вывожу названия колонок и первые 20 строк"
   ]
  },
  {
   "cell_type": "code",
   "execution_count": 4,
   "id": "ae1c7a02",
   "metadata": {
    "scrolled": true
   },
   "outputs": [
    {
     "name": "stdout",
     "output_type": "stream",
     "text": [
      "               column    type\n",
      "0           longitude  double\n",
      "1            latitude  double\n",
      "2  housing_median_age  double\n",
      "3         total_rooms  double\n",
      "4      total_bedrooms  double\n",
      "5          population  double\n",
      "6          households  double\n",
      "7       median_income  double\n",
      "8  median_house_value  double\n",
      "9     ocean_proximity  string\n",
      "+---------+--------+------------------+-----------+--------------+----------+----------+-------------+------------------+---------------+\n",
      "|longitude|latitude|housing_median_age|total_rooms|total_bedrooms|population|households|median_income|median_house_value|ocean_proximity|\n",
      "+---------+--------+------------------+-----------+--------------+----------+----------+-------------+------------------+---------------+\n",
      "|  -122.23|   37.88|              41.0|      880.0|         129.0|     322.0|     126.0|       8.3252|          452600.0|       NEAR BAY|\n",
      "|  -122.22|   37.86|              21.0|     7099.0|        1106.0|    2401.0|    1138.0|       8.3014|          358500.0|       NEAR BAY|\n",
      "|  -122.24|   37.85|              52.0|     1467.0|         190.0|     496.0|     177.0|       7.2574|          352100.0|       NEAR BAY|\n",
      "|  -122.25|   37.85|              52.0|     1274.0|         235.0|     558.0|     219.0|       5.6431|          341300.0|       NEAR BAY|\n",
      "|  -122.25|   37.85|              52.0|     1627.0|         280.0|     565.0|     259.0|       3.8462|          342200.0|       NEAR BAY|\n",
      "|  -122.25|   37.85|              52.0|      919.0|         213.0|     413.0|     193.0|       4.0368|          269700.0|       NEAR BAY|\n",
      "|  -122.25|   37.84|              52.0|     2535.0|         489.0|    1094.0|     514.0|       3.6591|          299200.0|       NEAR BAY|\n",
      "|  -122.25|   37.84|              52.0|     3104.0|         687.0|    1157.0|     647.0|         3.12|          241400.0|       NEAR BAY|\n",
      "|  -122.26|   37.84|              42.0|     2555.0|         665.0|    1206.0|     595.0|       2.0804|          226700.0|       NEAR BAY|\n",
      "|  -122.25|   37.84|              52.0|     3549.0|         707.0|    1551.0|     714.0|       3.6912|          261100.0|       NEAR BAY|\n",
      "|  -122.26|   37.85|              52.0|     2202.0|         434.0|     910.0|     402.0|       3.2031|          281500.0|       NEAR BAY|\n",
      "|  -122.26|   37.85|              52.0|     3503.0|         752.0|    1504.0|     734.0|       3.2705|          241800.0|       NEAR BAY|\n",
      "|  -122.26|   37.85|              52.0|     2491.0|         474.0|    1098.0|     468.0|        3.075|          213500.0|       NEAR BAY|\n",
      "|  -122.26|   37.84|              52.0|      696.0|         191.0|     345.0|     174.0|       2.6736|          191300.0|       NEAR BAY|\n",
      "|  -122.26|   37.85|              52.0|     2643.0|         626.0|    1212.0|     620.0|       1.9167|          159200.0|       NEAR BAY|\n",
      "|  -122.26|   37.85|              50.0|     1120.0|         283.0|     697.0|     264.0|        2.125|          140000.0|       NEAR BAY|\n",
      "|  -122.27|   37.85|              52.0|     1966.0|         347.0|     793.0|     331.0|        2.775|          152500.0|       NEAR BAY|\n",
      "|  -122.27|   37.85|              52.0|     1228.0|         293.0|     648.0|     303.0|       2.1202|          155500.0|       NEAR BAY|\n",
      "|  -122.26|   37.84|              50.0|     2239.0|         455.0|     990.0|     419.0|       1.9911|          158700.0|       NEAR BAY|\n",
      "|  -122.27|   37.84|              52.0|     1503.0|         298.0|     690.0|     275.0|       2.6033|          162900.0|       NEAR BAY|\n",
      "+---------+--------+------------------+-----------+--------------+----------+----------+-------------+------------------+---------------+\n",
      "only showing top 20 rows\n",
      "\n"
     ]
    }
   ],
   "source": [
    "\n",
    "print(pd.DataFrame(df.dtypes, columns=['column', 'type']).head(20))\n",
    "\n",
    "df.show(20)"
   ]
  },
  {
   "cell_type": "markdown",
   "id": "e1042f15",
   "metadata": {},
   "source": [
    "### Исследую данные на наличие пропусков"
   ]
  },
  {
   "cell_type": "code",
   "execution_count": 5,
   "id": "81f0c691",
   "metadata": {},
   "outputs": [
    {
     "data": {
      "text/plain": [
       "0"
      ]
     },
     "execution_count": 5,
     "metadata": {},
     "output_type": "execute_result"
    }
   ],
   "source": [
    "df.filter(df.longitude.isNull()).count()"
   ]
  },
  {
   "cell_type": "code",
   "execution_count": 6,
   "id": "0291df4f",
   "metadata": {},
   "outputs": [
    {
     "data": {
      "text/plain": [
       "0"
      ]
     },
     "execution_count": 6,
     "metadata": {},
     "output_type": "execute_result"
    }
   ],
   "source": [
    "df.filter(df.latitude.isNull()).count()"
   ]
  },
  {
   "cell_type": "code",
   "execution_count": 7,
   "id": "9263eabd",
   "metadata": {},
   "outputs": [
    {
     "data": {
      "text/plain": [
       "0"
      ]
     },
     "execution_count": 7,
     "metadata": {},
     "output_type": "execute_result"
    }
   ],
   "source": [
    "df.filter(df.housing_median_age.isNull()).count()"
   ]
  },
  {
   "cell_type": "code",
   "execution_count": 8,
   "id": "853f3546",
   "metadata": {
    "scrolled": true
   },
   "outputs": [
    {
     "data": {
      "text/plain": [
       "0"
      ]
     },
     "execution_count": 8,
     "metadata": {},
     "output_type": "execute_result"
    }
   ],
   "source": [
    "df.filter(df.total_rooms.isNull()).count()"
   ]
  },
  {
   "cell_type": "code",
   "execution_count": 9,
   "id": "4fc5abf6",
   "metadata": {},
   "outputs": [
    {
     "data": {
      "text/plain": [
       "207"
      ]
     },
     "execution_count": 9,
     "metadata": {},
     "output_type": "execute_result"
    }
   ],
   "source": [
    "df.filter(df.total_bedrooms.isNull()).count()"
   ]
  },
  {
   "cell_type": "code",
   "execution_count": 10,
   "id": "d95f1343",
   "metadata": {},
   "outputs": [
    {
     "data": {
      "text/plain": [
       "0"
      ]
     },
     "execution_count": 10,
     "metadata": {},
     "output_type": "execute_result"
    }
   ],
   "source": [
    "df.filter(df.population.isNull()).count()"
   ]
  },
  {
   "cell_type": "code",
   "execution_count": 11,
   "id": "b3cd0d08",
   "metadata": {},
   "outputs": [
    {
     "data": {
      "text/plain": [
       "0"
      ]
     },
     "execution_count": 11,
     "metadata": {},
     "output_type": "execute_result"
    }
   ],
   "source": [
    "df.filter(df.households.isNull()).count()"
   ]
  },
  {
   "cell_type": "code",
   "execution_count": 12,
   "id": "4ccc735f",
   "metadata": {},
   "outputs": [
    {
     "data": {
      "text/plain": [
       "0"
      ]
     },
     "execution_count": 12,
     "metadata": {},
     "output_type": "execute_result"
    }
   ],
   "source": [
    "df.filter(df.median_income.isNull()).count()"
   ]
  },
  {
   "cell_type": "code",
   "execution_count": 13,
   "id": "64308f73",
   "metadata": {},
   "outputs": [
    {
     "data": {
      "text/plain": [
       "0"
      ]
     },
     "execution_count": 13,
     "metadata": {},
     "output_type": "execute_result"
    }
   ],
   "source": [
    "df.filter(df.median_house_value.isNull()).count()"
   ]
  },
  {
   "cell_type": "code",
   "execution_count": 14,
   "id": "8e44cfd1",
   "metadata": {
    "scrolled": true
   },
   "outputs": [
    {
     "data": {
      "text/plain": [
       "0"
      ]
     },
     "execution_count": 14,
     "metadata": {},
     "output_type": "execute_result"
    }
   ],
   "source": [
    "df.filter(df.ocean_proximity.isNull()).count()"
   ]
  },
  {
   "cell_type": "markdown",
   "id": "be5619b0",
   "metadata": {},
   "source": [
    "### Нашла пропуски в столбце total_bedrooms. Заполняю их средним значением столбца"
   ]
  },
  {
   "cell_type": "markdown",
   "id": "7fd20b59",
   "metadata": {},
   "source": [
    "Ищу среднее значение столбца total_bedrooms"
   ]
  },
  {
   "cell_type": "markdown",
   "id": "1ce6f852",
   "metadata": {},
   "source": [
    "**Комментарий студента: я бы с удовольствием посчитала бы медиану столбца total_bedrooms, но я не нашла способа как эту медиану вычислить в pyspark**"
   ]
  },
  {
   "cell_type": "code",
   "execution_count": 15,
   "id": "ff013d22",
   "metadata": {},
   "outputs": [
    {
     "data": {
      "text/plain": [
       "[Row(avg(total_bedrooms)=537.8705525375618)]"
      ]
     },
     "execution_count": 15,
     "metadata": {},
     "output_type": "execute_result"
    }
   ],
   "source": [
    "df.select(mean('total_bedrooms')).collect()"
   ]
  },
  {
   "cell_type": "markdown",
   "id": "4cc7fdcd",
   "metadata": {},
   "source": [
    "Заполняю пропуски средним значением"
   ]
  },
  {
   "cell_type": "code",
   "execution_count": 16,
   "id": "3c1bd9e9",
   "metadata": {},
   "outputs": [],
   "source": [
    "df = df.withColumn(\"total_bedrooms\", col(\"total_bedrooms\").cast(IntegerType()))"
   ]
  },
  {
   "cell_type": "code",
   "execution_count": 17,
   "id": "f1ced331",
   "metadata": {},
   "outputs": [],
   "source": [
    "df = df.na.fill(value=537.9, subset=['total_bedrooms'])"
   ]
  },
  {
   "cell_type": "code",
   "execution_count": 18,
   "id": "2e44844a",
   "metadata": {},
   "outputs": [
    {
     "data": {
      "text/plain": [
       "0"
      ]
     },
     "execution_count": 18,
     "metadata": {},
     "output_type": "execute_result"
    }
   ],
   "source": [
    "df.filter(df.total_bedrooms.isNull()).count()"
   ]
  },
  {
   "cell_type": "markdown",
   "id": "9a13beb6",
   "metadata": {},
   "source": [
    "### Преобразую колонку с категориальными значениями техникой One hot encoding"
   ]
  },
  {
   "cell_type": "markdown",
   "id": "9dab196b",
   "metadata": {},
   "source": [
    "Делю столбцы на числовые и категориальные"
   ]
  },
  {
   "cell_type": "code",
   "execution_count": 19,
   "id": "119683c3",
   "metadata": {},
   "outputs": [],
   "source": [
    "categorical_cols = ['ocean_proximity']\n",
    "numerical_cols  = ['longitude', 'latitude', 'housing_median_age', 'total_rooms', 'total_bedrooms', \\\n",
    "                   'population', 'households', 'median_income']\n",
    "target = 'median_house_value'"
   ]
  },
  {
   "cell_type": "markdown",
   "id": "7efad3ea",
   "metadata": {},
   "source": [
    "### Делю датасет на выборки"
   ]
  },
  {
   "cell_type": "markdown",
   "id": "c8d5aad0",
   "metadata": {},
   "source": [
    "Выборка всех данных"
   ]
  },
  {
   "cell_type": "code",
   "execution_count": 20,
   "id": "55187b17",
   "metadata": {},
   "outputs": [
    {
     "name": "stderr",
     "output_type": "stream",
     "text": [
      "                                                                                \r"
     ]
    },
    {
     "name": "stdout",
     "output_type": "stream",
     "text": [
      "16418 4222\n"
     ]
    }
   ],
   "source": [
    "train_data, test_data = df.randomSplit([.8,.2], seed=RANDOM_SEED)\n",
    "print(train_data.count(), test_data.count())\n",
    "\n"
   ]
  },
  {
   "cell_type": "markdown",
   "id": "80913940",
   "metadata": {},
   "source": [
    "## Кодирование и стандартизация выборки (на обучающих данных)"
   ]
  },
  {
   "cell_type": "markdown",
   "id": "9b94cbca",
   "metadata": {},
   "source": [
    "### Трансформирую категориальные признаки (перевожу текстовые категории в числовое представление)"
   ]
  },
  {
   "cell_type": "code",
   "execution_count": 21,
   "id": "65e6d24f",
   "metadata": {
    "tags": []
   },
   "outputs": [
    {
     "name": "stderr",
     "output_type": "stream",
     "text": [
      "                                                                                \r"
     ]
    },
    {
     "name": "stdout",
     "output_type": "stream",
     "text": [
      "+---------------+-------------------+\n",
      "|ocean_proximity|ocean_proximity_idx|\n",
      "+---------------+-------------------+\n",
      "|     NEAR OCEAN|                2.0|\n",
      "|     NEAR OCEAN|                2.0|\n",
      "|     NEAR OCEAN|                2.0|\n",
      "|     NEAR OCEAN|                2.0|\n",
      "|     NEAR OCEAN|                2.0|\n",
      "|     NEAR OCEAN|                2.0|\n",
      "+---------------+-------------------+\n",
      "only showing top 6 rows\n",
      "\n",
      "+---------------+-------------------+\n",
      "|ocean_proximity|ocean_proximity_idx|\n",
      "+---------------+-------------------+\n",
      "|     NEAR OCEAN|                2.0|\n",
      "|     NEAR OCEAN|                2.0|\n",
      "|     NEAR OCEAN|                2.0|\n",
      "|     NEAR OCEAN|                2.0|\n",
      "|     NEAR OCEAN|                2.0|\n",
      "|     NEAR OCEAN|                2.0|\n",
      "+---------------+-------------------+\n",
      "only showing top 6 rows\n",
      "\n"
     ]
    }
   ],
   "source": [
    "indexer = StringIndexer(inputCols=categorical_cols, \n",
    "                        outputCols=[c+'_idx' for c in categorical_cols]) \n",
    "#train_data = indexer.fit(train_data).transform(train_data)\n",
    "indexer = indexer.fit(train_data)\n",
    "train_data = indexer.transform(train_data)\n",
    "test_data = indexer.transform(test_data)\n",
    "\n",
    "cols = [c for c in train_data.columns for i in categorical_cols if (c.startswith(i))]\n",
    "cols2 = [c for c in test_data.columns for i in categorical_cols if (c.startswith(i))]\n",
    "train_data.select(cols).show(6)\n",
    "test_data.select(cols2).show(6)"
   ]
  },
  {
   "cell_type": "code",
   "execution_count": 22,
   "id": "287769cc",
   "metadata": {},
   "outputs": [
    {
     "name": "stdout",
     "output_type": "stream",
     "text": [
      "+---------------+-------------------+-------------------+\n",
      "|ocean_proximity|ocean_proximity_idx|ocean_proximity_ohe|\n",
      "+---------------+-------------------+-------------------+\n",
      "|     NEAR OCEAN|                2.0|      (3,[2],[1.0])|\n",
      "|     NEAR OCEAN|                2.0|      (3,[2],[1.0])|\n",
      "|     NEAR OCEAN|                2.0|      (3,[2],[1.0])|\n",
      "+---------------+-------------------+-------------------+\n",
      "only showing top 3 rows\n",
      "\n",
      "+---------------+-------------------+-------------------+\n",
      "|ocean_proximity|ocean_proximity_idx|ocean_proximity_ohe|\n",
      "+---------------+-------------------+-------------------+\n",
      "|     NEAR OCEAN|                2.0|      (3,[2],[1.0])|\n",
      "|     NEAR OCEAN|                2.0|      (3,[2],[1.0])|\n",
      "|     NEAR OCEAN|                2.0|      (3,[2],[1.0])|\n",
      "+---------------+-------------------+-------------------+\n",
      "only showing top 3 rows\n",
      "\n"
     ]
    }
   ],
   "source": [
    "encoder = OneHotEncoder(inputCols=[c+'_idx' for c in categorical_cols],\n",
    "                        outputCols=[c+'_ohe' for c in categorical_cols])\n",
    "encoder = encoder.fit(train_data)\n",
    "train_data = encoder.transform (train_data)\n",
    "test_data = encoder.transform (test_data)\n",
    "\n",
    "cols = [c for c in train_data.columns for i in categorical_cols if (c.startswith(i))]\n",
    "cols2 = [c for c in test_data.columns for i in categorical_cols if (c.startswith(i))]\n",
    "train_data.select(cols).show(3)\n",
    "test_data.select(cols2).show(3)"
   ]
  },
  {
   "cell_type": "markdown",
   "id": "c273c31a",
   "metadata": {},
   "source": [
    "Объединяю признаки в один вектор"
   ]
  },
  {
   "cell_type": "code",
   "execution_count": 23,
   "id": "8fe2dbaa",
   "metadata": {},
   "outputs": [],
   "source": [
    "categorical_assembler = \\\n",
    "        VectorAssembler(inputCols=[c+'_ohe' for c in categorical_cols],\n",
    "                                        outputCol=\"categorical_features\")\n",
    "train_data = categorical_assembler.transform(train_data)\n",
    "test_data = categorical_assembler.transform(test_data)"
   ]
  },
  {
   "cell_type": "markdown",
   "id": "8cb0d73f",
   "metadata": {},
   "source": [
    "### Транформирую числовые признаки"
   ]
  },
  {
   "cell_type": "code",
   "execution_count": 24,
   "id": "f01685cf",
   "metadata": {},
   "outputs": [],
   "source": [
    "numerical_assembler = VectorAssembler(inputCols=numerical_cols, outputCol='numerical_features')\n",
    "train_data = numerical_assembler.transform(train_data)\n",
    "test_data = numerical_assembler.transform(test_data)"
   ]
  },
  {
   "cell_type": "code",
   "execution_count": 25,
   "id": "42d0a3a6",
   "metadata": {
    "scrolled": true
   },
   "outputs": [
    {
     "name": "stderr",
     "output_type": "stream",
     "text": [
      "                                                                                \r"
     ]
    }
   ],
   "source": [
    "standardScaler = StandardScaler(inputCol='numerical_features', outputCol='numerical_features_scaled')\n",
    "standardScaler = standardScaler.fit(train_data)\n",
    "train_data = standardScaler.transform(train_data)\n",
    "test_data = standardScaler.transform(test_data)"
   ]
  },
  {
   "cell_type": "markdown",
   "id": "bdf62582",
   "metadata": {},
   "source": [
    "Объединяю категориальные и числовые признаки"
   ]
  },
  {
   "cell_type": "code",
   "execution_count": 26,
   "id": "4b9ca8ed",
   "metadata": {},
   "outputs": [
    {
     "name": "stdout",
     "output_type": "stream",
     "text": [
      "+--------------------+-------------------------+\n",
      "|categorical_features|numerical_features_scaled|\n",
      "+--------------------+-------------------------+\n",
      "|       [0.0,0.0,1.0]|     [-61.952887791441...|\n",
      "|       [0.0,0.0,1.0]|     [-61.927977100733...|\n",
      "|       [0.0,0.0,1.0]|     [-61.913030686308...|\n",
      "+--------------------+-------------------------+\n",
      "only showing top 3 rows\n",
      "\n",
      "+--------------------+-------------------------+\n",
      "|categorical_features|numerical_features_scaled|\n",
      "+--------------------+-------------------------+\n",
      "|       [0.0,0.0,1.0]|     [-61.927977100733...|\n",
      "|       [0.0,0.0,1.0]|     [-61.893102133741...|\n",
      "|       [0.0,0.0,1.0]|     [-61.883137857458...|\n",
      "+--------------------+-------------------------+\n",
      "only showing top 3 rows\n",
      "\n"
     ]
    }
   ],
   "source": [
    "all_features = ['categorical_features','numerical_features_scaled']\n",
    "\n",
    "final_assembler = VectorAssembler(inputCols=all_features, \n",
    "                                  outputCol=\"features\") \n",
    "train_data = final_assembler.transform(train_data)\n",
    "test_data = final_assembler.transform(test_data)\n",
    "\n",
    "train_data.select(all_features).show(3)\n",
    "test_data.select(all_features).show(3)"
   ]
  },
  {
   "cell_type": "markdown",
   "id": "0b7a4730",
   "metadata": {},
   "source": [
    "Собираю трансформированные категорийные и числовые признаки с помощью VectorAssembler"
   ]
  },
  {
   "cell_type": "code",
   "execution_count": 27,
   "id": "66d5a642",
   "metadata": {},
   "outputs": [
    {
     "name": "stdout",
     "output_type": "stream",
     "text": [
      "+--------------------+-------------------------+\n",
      "|categorical_features|numerical_features_scaled|\n",
      "+--------------------+-------------------------+\n",
      "|       [0.0,0.0,1.0]|     [-61.952887791441...|\n",
      "|       [0.0,0.0,1.0]|     [-61.927977100733...|\n",
      "|       [0.0,0.0,1.0]|     [-61.913030686308...|\n",
      "+--------------------+-------------------------+\n",
      "only showing top 3 rows\n",
      "\n",
      "+--------------------+-------------------------+\n",
      "|categorical_features|numerical_features_scaled|\n",
      "+--------------------+-------------------------+\n",
      "|       [0.0,0.0,1.0]|     [-61.927977100733...|\n",
      "|       [0.0,0.0,1.0]|     [-61.893102133741...|\n",
      "|       [0.0,0.0,1.0]|     [-61.883137857458...|\n",
      "+--------------------+-------------------------+\n",
      "only showing top 3 rows\n",
      "\n"
     ]
    }
   ],
   "source": [
    "all_features = ['categorical_features','numerical_features_scaled']\n",
    "\n",
    "final_assembler = VectorAssembler(inputCols=all_features, \n",
    "                                  outputCol=\"features2\") \n",
    "train_data = final_assembler.transform(train_data)\n",
    "test_data = final_assembler.transform(test_data)\n",
    "\n",
    "train_data.select(all_features).show(3)\n",
    "test_data.select(all_features).show(3)"
   ]
  },
  {
   "cell_type": "markdown",
   "id": "f001ae97",
   "metadata": {},
   "source": [
    "Собираю трансформированные числовые признаки с помощью VectorAssembler"
   ]
  },
  {
   "cell_type": "code",
   "execution_count": 28,
   "id": "09a6cb1f",
   "metadata": {},
   "outputs": [
    {
     "name": "stdout",
     "output_type": "stream",
     "text": [
      "+-------------------------+\n",
      "|numerical_features_scaled|\n",
      "+-------------------------+\n",
      "|     [-61.952887791441...|\n",
      "|     [-61.927977100733...|\n",
      "|     [-61.913030686308...|\n",
      "+-------------------------+\n",
      "only showing top 3 rows\n",
      "\n",
      "+-------------------------+\n",
      "|numerical_features_scaled|\n",
      "+-------------------------+\n",
      "|     [-61.927977100733...|\n",
      "|     [-61.893102133741...|\n",
      "|     [-61.883137857458...|\n",
      "+-------------------------+\n",
      "only showing top 3 rows\n",
      "\n"
     ]
    }
   ],
   "source": [
    "features_numerical = ['numerical_features_scaled']\n",
    "\n",
    "final_assembler = VectorAssembler(inputCols=features_numerical, \n",
    "                                  outputCol=\"features_numerical2\") \n",
    "train_data_numeric = final_assembler.transform(train_data)\n",
    "test_data_numeric = final_assembler.transform(test_data)\n",
    "\n",
    "train_data_numeric.select(features_numerical).show(3)\n",
    "test_data_numeric.select(features_numerical).show(3)"
   ]
  },
  {
   "cell_type": "markdown",
   "id": "9f0a82f3",
   "metadata": {
    "id": "9f0a82f3"
   },
   "source": [
    "# Обучение моделей"
   ]
  },
  {
   "cell_type": "markdown",
   "id": "169e5cbf",
   "metadata": {},
   "source": [
    "## Обучаю модель линейной регрессии на всех данных"
   ]
  },
  {
   "cell_type": "code",
   "execution_count": 29,
   "id": "bddb08c4",
   "metadata": {
    "id": "bddb08c4"
   },
   "outputs": [
    {
     "name": "stderr",
     "output_type": "stream",
     "text": [
      "23/03/25 15:06:28 WARN Instrumentation: [9d1219d2] regParam is zero, which might cause numerical instability and overfitting.\n",
      "23/03/25 15:06:28 WARN BLAS: Failed to load implementation from: com.github.fommil.netlib.NativeSystemBLAS\n",
      "23/03/25 15:06:28 WARN BLAS: Failed to load implementation from: com.github.fommil.netlib.NativeRefBLAS\n",
      "23/03/25 15:06:29 WARN LAPACK: Failed to load implementation from: com.github.fommil.netlib.NativeSystemLAPACK\n",
      "23/03/25 15:06:29 WARN LAPACK: Failed to load implementation from: com.github.fommil.netlib.NativeRefLAPACK\n"
     ]
    }
   ],
   "source": [
    "lr = LinearRegression(labelCol=target, featuresCol='features2')\n",
    "\n",
    "model = lr.fit(train_data)"
   ]
  },
  {
   "cell_type": "markdown",
   "id": "1a88713f",
   "metadata": {},
   "source": [
    "### Предсказание вероятности"
   ]
  },
  {
   "cell_type": "code",
   "execution_count": 30,
   "id": "2cad7f38",
   "metadata": {},
   "outputs": [
    {
     "name": "stdout",
     "output_type": "stream",
     "text": [
      "+------------------+------------------+\n",
      "|median_house_value|        prediction|\n",
      "+------------------+------------------+\n",
      "|          103600.0|152865.87514861487|\n",
      "|           50800.0|214876.07044658205|\n",
      "|           58100.0| 142618.2032391131|\n",
      "|           68400.0|132349.13921796344|\n",
      "|           72200.0|  163939.709169711|\n",
      "|           67000.0|154334.70189631497|\n",
      "|           81300.0|  152708.727459664|\n",
      "|           70500.0| 164406.5200928771|\n",
      "|           60000.0|142660.04781813687|\n",
      "|          109400.0|171160.71687177988|\n",
      "|           74100.0|150521.59202428348|\n",
      "|           74700.0|167727.33971670223|\n",
      "|           90000.0| 209692.4597493834|\n",
      "|          104200.0|200349.14378986368|\n",
      "|           74100.0| 156998.5691604428|\n",
      "|           67500.0|148166.00283249747|\n",
      "|          103100.0| 47313.34136067517|\n",
      "|           92500.0| 166599.2089151363|\n",
      "|          128100.0|221960.62252641702|\n",
      "|           99600.0| 187129.5296109207|\n",
      "+------------------+------------------+\n",
      "only showing top 20 rows\n",
      "\n"
     ]
    }
   ],
   "source": [
    "predictions = model.transform(test_data)\n",
    "\n",
    "predictedLabes = predictions.select(\"median_house_value\", \"prediction\")\n",
    "predictedLabes.show()"
   ]
  },
  {
   "cell_type": "markdown",
   "id": "c7f9049a",
   "metadata": {},
   "source": [
    "### Оценка качества модели"
   ]
  },
  {
   "cell_type": "markdown",
   "id": "a1dd5f7f",
   "metadata": {},
   "source": [
    "#### RMSE, MAE, R2 модели, обученной на всех данных"
   ]
  },
  {
   "cell_type": "code",
   "execution_count": 31,
   "id": "f8834977",
   "metadata": {},
   "outputs": [
    {
     "name": "stdout",
     "output_type": "stream",
     "text": [
      "RMSE: 68837.946988\n",
      "r2: 0.642520\n",
      "MAE: 49825.213058\n"
     ]
    }
   ],
   "source": [
    "trainingSummary = model.summary\n",
    "print(\"RMSE: %f\" % trainingSummary.rootMeanSquaredError)\n",
    "print(\"r2: %f\" % trainingSummary.r2)\n",
    "print(\"MAE: %f\" %trainingSummary.meanAbsoluteError)"
   ]
  },
  {
   "cell_type": "markdown",
   "id": "5e341fdb",
   "metadata": {},
   "source": [
    "## Обучаю модель линейной регрессии на числовых переменных"
   ]
  },
  {
   "cell_type": "code",
   "execution_count": 32,
   "id": "a47d36e5",
   "metadata": {},
   "outputs": [
    {
     "name": "stderr",
     "output_type": "stream",
     "text": [
      "23/03/25 15:06:31 WARN Instrumentation: [1a017e01] regParam is zero, which might cause numerical instability and overfitting.\n"
     ]
    }
   ],
   "source": [
    "lr_numeric = LinearRegression(labelCol=target, featuresCol='features_numerical2')\n",
    "\n",
    "model_numeric = lr_numeric.fit(train_data_numeric)"
   ]
  },
  {
   "cell_type": "markdown",
   "id": "1a575fb8",
   "metadata": {},
   "source": [
    "### Предсказание вероятности на числовых переменных"
   ]
  },
  {
   "cell_type": "code",
   "execution_count": 33,
   "id": "2f886cd1",
   "metadata": {},
   "outputs": [
    {
     "name": "stdout",
     "output_type": "stream",
     "text": [
      "+------------------+------------------+\n",
      "|median_house_value|        prediction|\n",
      "+------------------+------------------+\n",
      "|          103600.0|101361.56231828593|\n",
      "|           50800.0|183294.72599111963|\n",
      "|           58100.0|109575.40450924309|\n",
      "|           68400.0| 80388.24150315206|\n",
      "|           72200.0| 129873.3605462294|\n",
      "|           67000.0|120400.88736406295|\n",
      "|           81300.0| 117988.9750988842|\n",
      "|           70500.0|130608.32066558907|\n",
      "|           60000.0|110059.38271041354|\n",
      "|          109400.0|118169.53892516624|\n",
      "|           74100.0|117714.81989784446|\n",
      "|           74700.0|134354.53908405034|\n",
      "|           90000.0|175912.64852028713|\n",
      "|          104200.0|166485.60635260819|\n",
      "|           74100.0|122927.37492212746|\n",
      "|           67500.0|113694.84989487799|\n",
      "|          103100.0|-8425.855139859486|\n",
      "|           92500.0|  140796.576008101|\n",
      "|          128100.0|191171.40436296258|\n",
      "|           99600.0| 152616.6706249104|\n",
      "+------------------+------------------+\n",
      "only showing top 20 rows\n",
      "\n"
     ]
    }
   ],
   "source": [
    "predictions_numeric = model_numeric.transform(test_data_numeric)\n",
    "\n",
    "predictedLabes = predictions_numeric.select(\"median_house_value\", \"prediction\")\n",
    "predictedLabes.show()"
   ]
  },
  {
   "cell_type": "markdown",
   "id": "97c8e9aa",
   "metadata": {},
   "source": [
    "### Оценка качества модели на числовы переменных"
   ]
  },
  {
   "cell_type": "markdown",
   "id": "cf723e81",
   "metadata": {},
   "source": [
    "#### RMSE, MAE, R2 модели, обученной на числовых переменных"
   ]
  },
  {
   "cell_type": "code",
   "execution_count": 34,
   "id": "7072aebc",
   "metadata": {
    "scrolled": true
   },
   "outputs": [
    {
     "name": "stdout",
     "output_type": "stream",
     "text": [
      "RMSE: 69775.766998\n",
      "r2: 0.632713\n",
      "MAE: 50930.398065\n"
     ]
    }
   ],
   "source": [
    "trainingSummary = model_numeric.summary\n",
    "print(\"RMSE: %f\" % trainingSummary.rootMeanSquaredError)\n",
    "print(\"r2: %f\" % trainingSummary.r2)\n",
    "print(\"MAE: %f\" %trainingSummary.meanAbsoluteError)"
   ]
  },
  {
   "cell_type": "code",
   "execution_count": 35,
   "id": "4319fd77",
   "metadata": {},
   "outputs": [],
   "source": [
    "spark.stop()"
   ]
  },
  {
   "cell_type": "markdown",
   "id": "757fd103",
   "metadata": {
    "id": "757fd103"
   },
   "source": [
    "# Анализ результатов"
   ]
  },
  {
   "cell_type": "markdown",
   "id": "da71cb93",
   "metadata": {},
   "source": [
    "Модель, обученная на всех данных, показала лучший результат по сравнению с моделью, обученной только на числовых переменных."
   ]
  }
 ],
 "metadata": {
  "ExecuteTimeLog": [
   {
    "duration": 20657,
    "start_time": "2023-03-23T17:45:55.122Z"
   },
   {
    "duration": 14894,
    "start_time": "2023-03-23T17:47:00.206Z"
   },
   {
    "duration": 1045,
    "start_time": "2023-03-23T17:52:17.031Z"
   },
   {
    "duration": 1380,
    "start_time": "2023-03-23T18:50:12.375Z"
   },
   {
    "duration": 369,
    "start_time": "2023-03-23T18:50:24.138Z"
   },
   {
    "duration": 85,
    "start_time": "2023-03-23T18:50:39.817Z"
   },
   {
    "duration": 8,
    "start_time": "2023-03-23T18:51:38.594Z"
   },
   {
    "duration": 10,
    "start_time": "2023-03-23T18:52:21.806Z"
   },
   {
    "duration": 10,
    "start_time": "2023-03-23T19:01:22.729Z"
   },
   {
    "duration": 11,
    "start_time": "2023-03-23T19:02:29.232Z"
   },
   {
    "duration": 7,
    "start_time": "2023-03-23T19:06:03.882Z"
   },
   {
    "duration": 13,
    "start_time": "2023-03-23T19:06:26.798Z"
   },
   {
    "duration": 7,
    "start_time": "2023-03-23T19:13:30.474Z"
   },
   {
    "duration": 13,
    "start_time": "2023-03-23T19:13:47.009Z"
   },
   {
    "duration": 14,
    "start_time": "2023-03-23T19:15:24.374Z"
   },
   {
    "duration": 7,
    "start_time": "2023-03-23T19:15:29.995Z"
   },
   {
    "duration": 97,
    "start_time": "2023-03-23T19:15:33.203Z"
   },
   {
    "duration": 22,
    "start_time": "2023-03-23T19:15:55.955Z"
   },
   {
    "duration": 25,
    "start_time": "2023-03-23T19:20:40.211Z"
   },
   {
    "duration": 1983,
    "start_time": "2023-03-23T19:20:54.507Z"
   },
   {
    "duration": 630,
    "start_time": "2023-03-23T19:22:15.445Z"
   },
   {
    "duration": 1724,
    "start_time": "2023-03-23T19:23:12.668Z"
   },
   {
    "duration": 422,
    "start_time": "2023-03-23T19:23:37.836Z"
   },
   {
    "duration": 469,
    "start_time": "2023-03-23T19:24:03.079Z"
   },
   {
    "duration": 664,
    "start_time": "2023-03-23T19:24:24.824Z"
   },
   {
    "duration": 287,
    "start_time": "2023-03-23T19:24:35.701Z"
   },
   {
    "duration": 412,
    "start_time": "2023-03-23T19:24:37.664Z"
   },
   {
    "duration": 389,
    "start_time": "2023-03-23T19:24:57.753Z"
   },
   {
    "duration": 314,
    "start_time": "2023-03-23T19:25:15.851Z"
   },
   {
    "duration": 315,
    "start_time": "2023-03-23T19:25:34.553Z"
   },
   {
    "duration": 439,
    "start_time": "2023-03-23T19:25:52.708Z"
   },
   {
    "duration": 341,
    "start_time": "2023-03-23T19:26:07.323Z"
   },
   {
    "duration": 261,
    "start_time": "2023-03-23T19:26:14.022Z"
   },
   {
    "duration": 279,
    "start_time": "2023-03-23T19:26:17.761Z"
   },
   {
    "duration": 10,
    "start_time": "2023-03-23T19:34:20.224Z"
   },
   {
    "duration": 9,
    "start_time": "2023-03-23T19:37:02.620Z"
   },
   {
    "duration": 5,
    "start_time": "2023-03-23T19:38:56.121Z"
   },
   {
    "duration": 132,
    "start_time": "2023-03-23T19:39:02.538Z"
   },
   {
    "duration": 7,
    "start_time": "2023-03-23T19:42:44.998Z"
   },
   {
    "duration": 16,
    "start_time": "2023-03-23T19:42:53.080Z"
   },
   {
    "duration": 642,
    "start_time": "2023-03-23T19:44:03.332Z"
   },
   {
    "duration": 12,
    "start_time": "2023-03-23T19:44:34.713Z"
   },
   {
    "duration": 5,
    "start_time": "2023-03-23T19:44:48.382Z"
   },
   {
    "duration": 17,
    "start_time": "2023-03-23T19:46:15.364Z"
   },
   {
    "duration": 14,
    "start_time": "2023-03-23T19:46:52.292Z"
   },
   {
    "duration": 3,
    "start_time": "2023-03-23T20:07:34.408Z"
   },
   {
    "duration": 4,
    "start_time": "2023-03-23T20:08:04.190Z"
   },
   {
    "duration": 4,
    "start_time": "2023-03-23T20:08:22.323Z"
   },
   {
    "duration": 14,
    "start_time": "2023-03-23T20:10:17.825Z"
   },
   {
    "duration": 10,
    "start_time": "2023-03-23T20:10:31.695Z"
   },
   {
    "duration": 837,
    "start_time": "2023-03-23T20:19:10.412Z"
   },
   {
    "duration": 408,
    "start_time": "2023-03-23T20:20:08.863Z"
   },
   {
    "duration": 352,
    "start_time": "2023-03-23T20:20:32.608Z"
   },
   {
    "duration": 24,
    "start_time": "2023-03-23T20:20:56.208Z"
   },
   {
    "duration": 290,
    "start_time": "2023-03-23T20:21:04.508Z"
   },
   {
    "duration": 280,
    "start_time": "2023-03-23T20:22:28.108Z"
   },
   {
    "duration": 26,
    "start_time": "2023-03-23T20:22:53.409Z"
   },
   {
    "duration": 212,
    "start_time": "2023-03-23T20:22:55.807Z"
   },
   {
    "duration": 34,
    "start_time": "2023-03-23T20:26:07.701Z"
   },
   {
    "duration": 282,
    "start_time": "2023-03-23T20:26:13.663Z"
   },
   {
    "duration": 311,
    "start_time": "2023-03-23T20:34:36.444Z"
   },
   {
    "duration": 273,
    "start_time": "2023-03-23T20:35:08.335Z"
   },
   {
    "duration": 171,
    "start_time": "2023-03-23T20:35:14.992Z"
   },
   {
    "duration": 183,
    "start_time": "2023-03-23T20:39:55.314Z"
   },
   {
    "duration": 24,
    "start_time": "2023-03-23T20:40:58.852Z"
   },
   {
    "duration": 132,
    "start_time": "2023-03-23T20:41:03.511Z"
   },
   {
    "duration": 18,
    "start_time": "2023-03-23T20:42:29.130Z"
   },
   {
    "duration": 185,
    "start_time": "2023-03-23T20:42:31.992Z"
   },
   {
    "duration": 8,
    "start_time": "2023-03-23T20:44:35.642Z"
   },
   {
    "duration": 10,
    "start_time": "2023-03-23T20:44:58.014Z"
   },
   {
    "duration": 12,
    "start_time": "2023-03-23T20:45:20.155Z"
   },
   {
    "duration": 10,
    "start_time": "2023-03-23T20:45:36.554Z"
   },
   {
    "duration": 9,
    "start_time": "2023-03-23T20:47:59.717Z"
   },
   {
    "duration": 245,
    "start_time": "2023-03-23T20:48:08.095Z"
   },
   {
    "duration": 125,
    "start_time": "2023-03-23T20:48:13.825Z"
   },
   {
    "duration": 141,
    "start_time": "2023-03-23T20:48:21.530Z"
   },
   {
    "duration": 206,
    "start_time": "2023-03-23T20:48:34.297Z"
   },
   {
    "duration": 12,
    "start_time": "2023-03-23T20:52:01.795Z"
   },
   {
    "duration": 10,
    "start_time": "2023-03-23T20:52:23.195Z"
   },
   {
    "duration": 151,
    "start_time": "2023-03-23T20:52:45.161Z"
   },
   {
    "duration": 139,
    "start_time": "2023-03-23T20:52:54.796Z"
   },
   {
    "duration": 10,
    "start_time": "2023-03-23T20:55:52.648Z"
   },
   {
    "duration": 8,
    "start_time": "2023-03-23T20:57:03.961Z"
   },
   {
    "duration": 125,
    "start_time": "2023-03-23T20:57:16.817Z"
   },
   {
    "duration": 177,
    "start_time": "2023-03-23T20:57:27.158Z"
   },
   {
    "duration": 6,
    "start_time": "2023-03-23T21:01:40.109Z"
   },
   {
    "duration": 3,
    "start_time": "2023-03-23T21:14:01.307Z"
   },
   {
    "duration": 9,
    "start_time": "2023-03-23T21:14:51.296Z"
   },
   {
    "duration": 297,
    "start_time": "2023-03-23T21:15:35.434Z"
   },
   {
    "duration": 1819,
    "start_time": "2023-03-23T21:15:43.336Z"
   },
   {
    "duration": 22,
    "start_time": "2023-03-23T21:16:19.415Z"
   },
   {
    "duration": 6,
    "start_time": "2023-03-23T21:16:56.432Z"
   },
   {
    "duration": 544,
    "start_time": "2023-03-23T21:17:03.095Z"
   },
   {
    "duration": 50,
    "start_time": "2023-03-23T21:17:38.856Z"
   },
   {
    "duration": 30,
    "start_time": "2023-03-23T21:18:28.692Z"
   },
   {
    "duration": 94,
    "start_time": "2023-03-23T21:18:38.212Z"
   },
   {
    "duration": 86,
    "start_time": "2023-03-23T21:20:14.312Z"
   },
   {
    "duration": 83,
    "start_time": "2023-03-23T21:20:36.597Z"
   },
   {
    "duration": 6,
    "start_time": "2023-03-23T21:21:25.905Z"
   },
   {
    "duration": 452,
    "start_time": "2023-03-23T21:21:25.913Z"
   },
   {
    "duration": 217,
    "start_time": "2023-03-23T21:21:26.367Z"
   },
   {
    "duration": 246,
    "start_time": "2023-03-23T21:21:26.642Z"
   },
   {
    "duration": 244,
    "start_time": "2023-03-23T21:21:26.890Z"
   },
   {
    "duration": 227,
    "start_time": "2023-03-23T21:21:27.135Z"
   },
   {
    "duration": 216,
    "start_time": "2023-03-23T21:21:27.364Z"
   },
   {
    "duration": 180,
    "start_time": "2023-03-23T21:21:27.581Z"
   },
   {
    "duration": 202,
    "start_time": "2023-03-23T21:21:27.762Z"
   },
   {
    "duration": 197,
    "start_time": "2023-03-23T21:21:27.967Z"
   },
   {
    "duration": 176,
    "start_time": "2023-03-23T21:21:28.166Z"
   },
   {
    "duration": 202,
    "start_time": "2023-03-23T21:21:28.344Z"
   },
   {
    "duration": 173,
    "start_time": "2023-03-23T21:21:28.547Z"
   },
   {
    "duration": 215,
    "start_time": "2023-03-23T21:21:28.743Z"
   },
   {
    "duration": 246,
    "start_time": "2023-03-23T21:21:28.960Z"
   },
   {
    "duration": 111,
    "start_time": "2023-03-23T21:21:29.207Z"
   },
   {
    "duration": 3,
    "start_time": "2023-03-23T21:21:29.319Z"
   },
   {
    "duration": 627,
    "start_time": "2023-03-23T21:21:29.324Z"
   },
   {
    "duration": 154,
    "start_time": "2023-03-23T21:21:29.953Z"
   },
   {
    "duration": 45,
    "start_time": "2023-03-23T21:21:30.109Z"
   },
   {
    "duration": 20,
    "start_time": "2023-03-23T21:21:32.955Z"
   },
   {
    "duration": 694,
    "start_time": "2023-03-23T21:21:56.443Z"
   },
   {
    "duration": 7,
    "start_time": "2023-03-23T21:23:06.912Z"
   },
   {
    "duration": 428,
    "start_time": "2023-03-23T21:23:06.921Z"
   },
   {
    "duration": 197,
    "start_time": "2023-03-23T21:23:07.351Z"
   },
   {
    "duration": 171,
    "start_time": "2023-03-23T21:23:07.550Z"
   },
   {
    "duration": 177,
    "start_time": "2023-03-23T21:23:07.724Z"
   },
   {
    "duration": 159,
    "start_time": "2023-03-23T21:23:07.902Z"
   },
   {
    "duration": 210,
    "start_time": "2023-03-23T21:23:08.063Z"
   },
   {
    "duration": 178,
    "start_time": "2023-03-23T21:23:08.275Z"
   },
   {
    "duration": 162,
    "start_time": "2023-03-23T21:23:08.455Z"
   },
   {
    "duration": 181,
    "start_time": "2023-03-23T21:23:08.619Z"
   },
   {
    "duration": 294,
    "start_time": "2023-03-23T21:23:08.804Z"
   },
   {
    "duration": 141,
    "start_time": "2023-03-23T21:23:09.100Z"
   },
   {
    "duration": 138,
    "start_time": "2023-03-23T21:23:09.243Z"
   },
   {
    "duration": 171,
    "start_time": "2023-03-23T21:23:09.384Z"
   },
   {
    "duration": 146,
    "start_time": "2023-03-23T21:23:09.557Z"
   },
   {
    "duration": 241,
    "start_time": "2023-03-23T21:23:09.704Z"
   },
   {
    "duration": 3,
    "start_time": "2023-03-23T21:23:09.946Z"
   },
   {
    "duration": 565,
    "start_time": "2023-03-23T21:23:09.951Z"
   },
   {
    "duration": 170,
    "start_time": "2023-03-23T21:23:10.517Z"
   },
   {
    "duration": 19,
    "start_time": "2023-03-23T21:23:10.689Z"
   },
   {
    "duration": 41,
    "start_time": "2023-03-23T21:23:10.710Z"
   },
   {
    "duration": 348,
    "start_time": "2023-03-23T21:23:21.097Z"
   },
   {
    "duration": 79,
    "start_time": "2023-03-23T21:28:06.826Z"
   },
   {
    "duration": 429,
    "start_time": "2023-03-23T21:28:32.660Z"
   },
   {
    "duration": 93,
    "start_time": "2023-03-23T21:32:45.122Z"
   },
   {
    "duration": 6,
    "start_time": "2023-03-23T21:33:03.311Z"
   },
   {
    "duration": 338,
    "start_time": "2023-03-23T21:33:03.319Z"
   },
   {
    "duration": 133,
    "start_time": "2023-03-23T21:33:03.659Z"
   },
   {
    "duration": 166,
    "start_time": "2023-03-23T21:33:03.794Z"
   },
   {
    "duration": 181,
    "start_time": "2023-03-23T21:33:03.962Z"
   },
   {
    "duration": 204,
    "start_time": "2023-03-23T21:33:04.144Z"
   },
   {
    "duration": 171,
    "start_time": "2023-03-23T21:33:04.349Z"
   },
   {
    "duration": 135,
    "start_time": "2023-03-23T21:33:04.522Z"
   },
   {
    "duration": 168,
    "start_time": "2023-03-23T21:33:04.659Z"
   },
   {
    "duration": 202,
    "start_time": "2023-03-23T21:33:04.840Z"
   },
   {
    "duration": 175,
    "start_time": "2023-03-23T21:33:05.044Z"
   },
   {
    "duration": 133,
    "start_time": "2023-03-23T21:33:05.221Z"
   },
   {
    "duration": 231,
    "start_time": "2023-03-23T21:33:05.356Z"
   },
   {
    "duration": 232,
    "start_time": "2023-03-23T21:33:05.642Z"
   },
   {
    "duration": 209,
    "start_time": "2023-03-23T21:33:05.875Z"
   },
   {
    "duration": 167,
    "start_time": "2023-03-23T21:33:06.086Z"
   },
   {
    "duration": 4,
    "start_time": "2023-03-23T21:33:06.255Z"
   },
   {
    "duration": 450,
    "start_time": "2023-03-23T21:33:06.260Z"
   },
   {
    "duration": 176,
    "start_time": "2023-03-23T21:33:06.712Z"
   },
   {
    "duration": 66,
    "start_time": "2023-03-23T21:33:06.889Z"
   },
   {
    "duration": 84,
    "start_time": "2023-03-23T21:33:06.957Z"
   },
   {
    "duration": 454,
    "start_time": "2023-03-23T21:33:07.043Z"
   },
   {
    "duration": 0,
    "start_time": "2023-03-23T21:33:07.499Z"
   },
   {
    "duration": 0,
    "start_time": "2023-03-23T21:33:07.501Z"
   },
   {
    "duration": 84,
    "start_time": "2023-03-23T21:33:12.182Z"
   },
   {
    "duration": 26,
    "start_time": "2023-03-23T21:50:23.346Z"
   },
   {
    "duration": 97,
    "start_time": "2023-03-23T21:51:59.199Z"
   },
   {
    "duration": 1128,
    "start_time": "2023-03-23T21:52:48.373Z"
   },
   {
    "duration": 13,
    "start_time": "2023-03-23T22:01:53.525Z"
   },
   {
    "duration": 164,
    "start_time": "2023-03-23T22:01:55.898Z"
   },
   {
    "duration": 43,
    "start_time": "2023-03-23T22:04:04.812Z"
   },
   {
    "duration": 17,
    "start_time": "2023-03-23T22:04:08.332Z"
   },
   {
    "duration": 153,
    "start_time": "2023-03-23T22:04:11.110Z"
   },
   {
    "duration": 20856,
    "start_time": "2023-03-23T22:05:09.216Z"
   },
   {
    "duration": 10874,
    "start_time": "2023-03-23T22:05:30.075Z"
   },
   {
    "duration": 891,
    "start_time": "2023-03-23T22:05:40.951Z"
   },
   {
    "duration": 1410,
    "start_time": "2023-03-23T22:05:41.845Z"
   },
   {
    "duration": 611,
    "start_time": "2023-03-23T22:05:43.257Z"
   },
   {
    "duration": 475,
    "start_time": "2023-03-23T22:05:43.870Z"
   },
   {
    "duration": 404,
    "start_time": "2023-03-23T22:05:44.346Z"
   },
   {
    "duration": 409,
    "start_time": "2023-03-23T22:05:44.752Z"
   },
   {
    "duration": 378,
    "start_time": "2023-03-23T22:05:45.164Z"
   },
   {
    "duration": 319,
    "start_time": "2023-03-23T22:05:45.547Z"
   },
   {
    "duration": 377,
    "start_time": "2023-03-23T22:05:45.868Z"
   },
   {
    "duration": 395,
    "start_time": "2023-03-23T22:05:46.247Z"
   },
   {
    "duration": 410,
    "start_time": "2023-03-23T22:05:46.644Z"
   },
   {
    "duration": 630,
    "start_time": "2023-03-23T22:05:47.056Z"
   },
   {
    "duration": 74,
    "start_time": "2023-03-23T22:05:47.688Z"
   },
   {
    "duration": 100,
    "start_time": "2023-03-23T22:05:47.764Z"
   },
   {
    "duration": 380,
    "start_time": "2023-03-23T22:05:47.866Z"
   },
   {
    "duration": 3,
    "start_time": "2023-03-23T22:05:48.248Z"
   },
   {
    "duration": 2115,
    "start_time": "2023-03-23T22:05:48.253Z"
   },
   {
    "duration": 786,
    "start_time": "2023-03-23T22:05:50.370Z"
   },
   {
    "duration": 115,
    "start_time": "2023-03-23T22:05:51.158Z"
   },
   {
    "duration": 97,
    "start_time": "2023-03-23T22:05:51.274Z"
   },
   {
    "duration": 1100,
    "start_time": "2023-03-23T22:05:51.373Z"
   },
   {
    "duration": 0,
    "start_time": "2023-03-23T22:05:52.475Z"
   },
   {
    "duration": 0,
    "start_time": "2023-03-23T22:05:52.477Z"
   },
   {
    "duration": 0,
    "start_time": "2023-03-23T22:05:52.479Z"
   },
   {
    "duration": 0,
    "start_time": "2023-03-23T22:05:52.480Z"
   },
   {
    "duration": 0,
    "start_time": "2023-03-23T22:05:52.481Z"
   },
   {
    "duration": 0,
    "start_time": "2023-03-23T22:05:52.485Z"
   },
   {
    "duration": 0,
    "start_time": "2023-03-23T22:05:52.486Z"
   },
   {
    "duration": 10,
    "start_time": "2023-03-23T22:22:33.161Z"
   },
   {
    "duration": 33,
    "start_time": "2023-03-23T22:25:35.929Z"
   },
   {
    "duration": 4675,
    "start_time": "2023-03-23T22:25:41.207Z"
   },
   {
    "duration": 17934,
    "start_time": "2023-03-23T22:26:07.929Z"
   },
   {
    "duration": 11312,
    "start_time": "2023-03-23T22:26:25.866Z"
   },
   {
    "duration": 1070,
    "start_time": "2023-03-23T22:26:37.184Z"
   },
   {
    "duration": 1723,
    "start_time": "2023-03-23T22:26:38.256Z"
   },
   {
    "duration": 640,
    "start_time": "2023-03-23T22:26:40.041Z"
   },
   {
    "duration": 505,
    "start_time": "2023-03-23T22:26:40.744Z"
   },
   {
    "duration": 594,
    "start_time": "2023-03-23T22:26:41.251Z"
   },
   {
    "duration": 500,
    "start_time": "2023-03-23T22:26:41.847Z"
   },
   {
    "duration": 328,
    "start_time": "2023-03-23T22:26:42.348Z"
   },
   {
    "duration": 489,
    "start_time": "2023-03-23T22:26:42.681Z"
   },
   {
    "duration": 472,
    "start_time": "2023-03-23T22:26:43.173Z"
   },
   {
    "duration": 412,
    "start_time": "2023-03-23T22:26:43.647Z"
   },
   {
    "duration": 513,
    "start_time": "2023-03-23T22:26:44.061Z"
   },
   {
    "duration": 790,
    "start_time": "2023-03-23T22:26:44.575Z"
   },
   {
    "duration": 30,
    "start_time": "2023-03-23T22:26:45.367Z"
   },
   {
    "duration": 80,
    "start_time": "2023-03-23T22:26:45.405Z"
   },
   {
    "duration": 488,
    "start_time": "2023-03-23T22:26:45.488Z"
   },
   {
    "duration": 4370,
    "start_time": "2023-03-23T22:26:45.977Z"
   },
   {
    "duration": 7,
    "start_time": "2023-03-23T22:26:50.355Z"
   },
   {
    "duration": 2292,
    "start_time": "2023-03-23T22:26:50.365Z"
   },
   {
    "duration": 792,
    "start_time": "2023-03-23T22:26:52.660Z"
   },
   {
    "duration": 132,
    "start_time": "2023-03-23T22:26:53.453Z"
   },
   {
    "duration": 104,
    "start_time": "2023-03-23T22:26:53.641Z"
   },
   {
    "duration": 1145,
    "start_time": "2023-03-23T22:26:53.752Z"
   },
   {
    "duration": 0,
    "start_time": "2023-03-23T22:26:54.900Z"
   },
   {
    "duration": 0,
    "start_time": "2023-03-23T22:26:54.902Z"
   },
   {
    "duration": 0,
    "start_time": "2023-03-23T22:26:54.903Z"
   },
   {
    "duration": 0,
    "start_time": "2023-03-23T22:26:54.905Z"
   },
   {
    "duration": 0,
    "start_time": "2023-03-23T22:26:54.906Z"
   },
   {
    "duration": 0,
    "start_time": "2023-03-23T22:26:54.908Z"
   },
   {
    "duration": 0,
    "start_time": "2023-03-23T22:26:54.910Z"
   },
   {
    "duration": 16222,
    "start_time": "2023-03-24T07:31:23.547Z"
   },
   {
    "duration": 9407,
    "start_time": "2023-03-24T07:31:39.772Z"
   },
   {
    "duration": 878,
    "start_time": "2023-03-24T07:31:49.181Z"
   },
   {
    "duration": 1412,
    "start_time": "2023-03-24T07:31:50.061Z"
   },
   {
    "duration": 566,
    "start_time": "2023-03-24T07:31:51.476Z"
   },
   {
    "duration": 408,
    "start_time": "2023-03-24T07:31:52.044Z"
   },
   {
    "duration": 393,
    "start_time": "2023-03-24T07:31:52.453Z"
   },
   {
    "duration": 406,
    "start_time": "2023-03-24T07:31:52.848Z"
   },
   {
    "duration": 394,
    "start_time": "2023-03-24T07:31:53.256Z"
   },
   {
    "duration": 390,
    "start_time": "2023-03-24T07:31:53.652Z"
   },
   {
    "duration": 325,
    "start_time": "2023-03-24T07:31:54.044Z"
   },
   {
    "duration": 420,
    "start_time": "2023-03-24T07:31:54.371Z"
   },
   {
    "duration": 450,
    "start_time": "2023-03-24T07:31:54.792Z"
   },
   {
    "duration": 699,
    "start_time": "2023-03-24T07:31:55.247Z"
   },
   {
    "duration": 24,
    "start_time": "2023-03-24T07:31:55.948Z"
   },
   {
    "duration": 91,
    "start_time": "2023-03-24T07:31:55.974Z"
   },
   {
    "duration": 477,
    "start_time": "2023-03-24T07:31:56.067Z"
   },
   {
    "duration": 3628,
    "start_time": "2023-03-24T07:31:56.546Z"
   },
   {
    "duration": 370,
    "start_time": "2023-03-24T07:32:00.176Z"
   },
   {
    "duration": 5,
    "start_time": "2023-03-24T07:32:00.549Z"
   },
   {
    "duration": 1898,
    "start_time": "2023-03-24T07:32:00.556Z"
   },
   {
    "duration": 691,
    "start_time": "2023-03-24T07:32:02.457Z"
   },
   {
    "duration": 99,
    "start_time": "2023-03-24T07:32:03.150Z"
   },
   {
    "duration": 101,
    "start_time": "2023-03-24T07:32:03.251Z"
   },
   {
    "duration": 1040,
    "start_time": "2023-03-24T07:32:03.353Z"
   },
   {
    "duration": 1,
    "start_time": "2023-03-24T07:32:04.395Z"
   },
   {
    "duration": 0,
    "start_time": "2023-03-24T07:32:04.397Z"
   },
   {
    "duration": 0,
    "start_time": "2023-03-24T07:32:04.398Z"
   },
   {
    "duration": 0,
    "start_time": "2023-03-24T07:32:04.399Z"
   },
   {
    "duration": 0,
    "start_time": "2023-03-24T07:32:04.401Z"
   },
   {
    "duration": 0,
    "start_time": "2023-03-24T07:32:04.402Z"
   },
   {
    "duration": 0,
    "start_time": "2023-03-24T07:32:04.403Z"
   },
   {
    "duration": 0,
    "start_time": "2023-03-24T07:32:04.404Z"
   },
   {
    "duration": 16,
    "start_time": "2023-03-24T07:37:14.751Z"
   },
   {
    "duration": 142,
    "start_time": "2023-03-24T07:37:21.909Z"
   },
   {
    "duration": 17806,
    "start_time": "2023-03-24T07:38:58.660Z"
   },
   {
    "duration": 9808,
    "start_time": "2023-03-24T07:39:16.469Z"
   },
   {
    "duration": 971,
    "start_time": "2023-03-24T07:39:26.279Z"
   },
   {
    "duration": 1592,
    "start_time": "2023-03-24T07:39:27.252Z"
   },
   {
    "duration": 510,
    "start_time": "2023-03-24T07:39:28.846Z"
   },
   {
    "duration": 488,
    "start_time": "2023-03-24T07:39:29.358Z"
   },
   {
    "duration": 425,
    "start_time": "2023-03-24T07:39:29.848Z"
   },
   {
    "duration": 490,
    "start_time": "2023-03-24T07:39:30.276Z"
   },
   {
    "duration": 499,
    "start_time": "2023-03-24T07:39:30.767Z"
   },
   {
    "duration": 475,
    "start_time": "2023-03-24T07:39:31.269Z"
   },
   {
    "duration": 415,
    "start_time": "2023-03-24T07:39:31.746Z"
   },
   {
    "duration": 421,
    "start_time": "2023-03-24T07:39:32.162Z"
   },
   {
    "duration": 412,
    "start_time": "2023-03-24T07:39:32.643Z"
   },
   {
    "duration": 705,
    "start_time": "2023-03-24T07:39:33.057Z"
   },
   {
    "duration": 84,
    "start_time": "2023-03-24T07:39:33.764Z"
   },
   {
    "duration": 29,
    "start_time": "2023-03-24T07:39:33.851Z"
   },
   {
    "duration": 276,
    "start_time": "2023-03-24T07:39:33.881Z"
   },
   {
    "duration": 4,
    "start_time": "2023-03-24T07:39:34.159Z"
   },
   {
    "duration": 2200,
    "start_time": "2023-03-24T07:39:34.165Z"
   },
   {
    "duration": 692,
    "start_time": "2023-03-24T07:39:36.367Z"
   },
   {
    "duration": 105,
    "start_time": "2023-03-24T07:39:37.061Z"
   },
   {
    "duration": 102,
    "start_time": "2023-03-24T07:39:37.168Z"
   },
   {
    "duration": 1470,
    "start_time": "2023-03-24T07:39:37.276Z"
   },
   {
    "duration": 518,
    "start_time": "2023-03-24T07:39:38.748Z"
   },
   {
    "duration": 262,
    "start_time": "2023-03-24T07:39:39.268Z"
   },
   {
    "duration": 0,
    "start_time": "2023-03-24T07:39:39.531Z"
   },
   {
    "duration": 0,
    "start_time": "2023-03-24T07:39:39.533Z"
   },
   {
    "duration": 0,
    "start_time": "2023-03-24T07:39:39.534Z"
   },
   {
    "duration": 0,
    "start_time": "2023-03-24T07:39:39.536Z"
   },
   {
    "duration": 0,
    "start_time": "2023-03-24T07:39:39.537Z"
   },
   {
    "duration": 0,
    "start_time": "2023-03-24T07:39:39.538Z"
   },
   {
    "duration": 260,
    "start_time": "2023-03-24T07:44:27.188Z"
   },
   {
    "duration": 3725,
    "start_time": "2023-03-24T07:44:38.252Z"
   },
   {
    "duration": 7,
    "start_time": "2023-03-24T07:44:45.324Z"
   },
   {
    "duration": 281,
    "start_time": "2023-03-24T08:10:35.065Z"
   },
   {
    "duration": 80,
    "start_time": "2023-03-24T08:11:18.345Z"
   },
   {
    "duration": 15936,
    "start_time": "2023-03-24T08:11:35.226Z"
   },
   {
    "duration": 9198,
    "start_time": "2023-03-24T08:11:51.165Z"
   },
   {
    "duration": 902,
    "start_time": "2023-03-24T08:12:00.365Z"
   },
   {
    "duration": 1576,
    "start_time": "2023-03-24T08:12:01.269Z"
   },
   {
    "duration": 516,
    "start_time": "2023-03-24T08:12:02.847Z"
   },
   {
    "duration": 484,
    "start_time": "2023-03-24T08:12:03.364Z"
   },
   {
    "duration": 395,
    "start_time": "2023-03-24T08:12:03.850Z"
   },
   {
    "duration": 400,
    "start_time": "2023-03-24T08:12:04.247Z"
   },
   {
    "duration": 401,
    "start_time": "2023-03-24T08:12:04.649Z"
   },
   {
    "duration": 413,
    "start_time": "2023-03-24T08:12:05.052Z"
   },
   {
    "duration": 389,
    "start_time": "2023-03-24T08:12:05.467Z"
   },
   {
    "duration": 420,
    "start_time": "2023-03-24T08:12:05.857Z"
   },
   {
    "duration": 477,
    "start_time": "2023-03-24T08:12:06.280Z"
   },
   {
    "duration": 685,
    "start_time": "2023-03-24T08:12:06.761Z"
   },
   {
    "duration": 27,
    "start_time": "2023-03-24T08:12:07.448Z"
   },
   {
    "duration": 80,
    "start_time": "2023-03-24T08:12:07.477Z"
   },
   {
    "duration": 289,
    "start_time": "2023-03-24T08:12:07.560Z"
   },
   {
    "duration": 3,
    "start_time": "2023-03-24T08:12:07.852Z"
   },
   {
    "duration": 2149,
    "start_time": "2023-03-24T08:12:07.858Z"
   },
   {
    "duration": 730,
    "start_time": "2023-03-24T08:12:10.041Z"
   },
   {
    "duration": 192,
    "start_time": "2023-03-24T08:12:10.773Z"
   },
   {
    "duration": 173,
    "start_time": "2023-03-24T08:12:10.968Z"
   },
   {
    "duration": 1614,
    "start_time": "2023-03-24T08:12:11.144Z"
   },
   {
    "duration": 593,
    "start_time": "2023-03-24T08:12:12.760Z"
   },
   {
    "duration": 440,
    "start_time": "2023-03-24T08:12:13.355Z"
   },
   {
    "duration": 431,
    "start_time": "2023-03-24T08:12:13.842Z"
   },
   {
    "duration": 3993,
    "start_time": "2023-03-24T08:12:14.275Z"
   },
   {
    "duration": 202,
    "start_time": "2023-03-24T08:12:18.270Z"
   },
   {
    "duration": 0,
    "start_time": "2023-03-24T08:12:18.475Z"
   },
   {
    "duration": 0,
    "start_time": "2023-03-24T08:12:18.477Z"
   },
   {
    "duration": 0,
    "start_time": "2023-03-24T08:12:18.478Z"
   },
   {
    "duration": 0,
    "start_time": "2023-03-24T08:12:18.480Z"
   },
   {
    "duration": 2642,
    "start_time": "2023-03-24T08:12:23.306Z"
   },
   {
    "duration": 500625,
    "start_time": "2023-03-24T08:13:39.748Z"
   },
   {
    "duration": 10,
    "start_time": "2023-03-24T08:22:53.105Z"
   },
   {
    "duration": 73,
    "start_time": "2023-03-24T08:23:16.205Z"
   },
   {
    "duration": 9,
    "start_time": "2023-03-24T08:23:34.284Z"
   },
   {
    "duration": 8,
    "start_time": "2023-03-24T08:23:51.890Z"
   },
   {
    "duration": 9,
    "start_time": "2023-03-24T08:25:30.856Z"
   },
   {
    "duration": 18028,
    "start_time": "2023-03-24T08:31:45.947Z"
   },
   {
    "duration": 10998,
    "start_time": "2023-03-24T08:32:03.978Z"
   },
   {
    "duration": 931,
    "start_time": "2023-03-24T08:32:15.040Z"
   },
   {
    "duration": 1792,
    "start_time": "2023-03-24T08:32:15.973Z"
   },
   {
    "duration": 710,
    "start_time": "2023-03-24T08:32:17.768Z"
   },
   {
    "duration": 528,
    "start_time": "2023-03-24T08:32:18.541Z"
   },
   {
    "duration": 573,
    "start_time": "2023-03-24T08:32:19.073Z"
   },
   {
    "duration": 425,
    "start_time": "2023-03-24T08:32:19.649Z"
   },
   {
    "duration": 468,
    "start_time": "2023-03-24T08:32:20.076Z"
   },
   {
    "duration": 508,
    "start_time": "2023-03-24T08:32:20.547Z"
   },
   {
    "duration": 507,
    "start_time": "2023-03-24T08:32:21.060Z"
   },
   {
    "duration": 398,
    "start_time": "2023-03-24T08:32:21.570Z"
   },
   {
    "duration": 582,
    "start_time": "2023-03-24T08:32:21.970Z"
   },
   {
    "duration": 805,
    "start_time": "2023-03-24T08:32:22.556Z"
   },
   {
    "duration": 99,
    "start_time": "2023-03-24T08:32:23.363Z"
   },
   {
    "duration": 102,
    "start_time": "2023-03-24T08:32:23.465Z"
   },
   {
    "duration": 306,
    "start_time": "2023-03-24T08:32:23.570Z"
   },
   {
    "duration": 65,
    "start_time": "2023-03-24T08:32:23.878Z"
   },
   {
    "duration": 2514,
    "start_time": "2023-03-24T08:32:23.945Z"
   },
   {
    "duration": 901,
    "start_time": "2023-03-24T08:32:26.461Z"
   },
   {
    "duration": 179,
    "start_time": "2023-03-24T08:32:27.363Z"
   },
   {
    "duration": 137,
    "start_time": "2023-03-24T08:32:27.544Z"
   },
   {
    "duration": 1803,
    "start_time": "2023-03-24T08:32:27.742Z"
   },
   {
    "duration": 693,
    "start_time": "2023-03-24T08:32:29.548Z"
   },
   {
    "duration": 453,
    "start_time": "2023-03-24T08:32:30.243Z"
   },
   {
    "duration": 470,
    "start_time": "2023-03-24T08:32:30.740Z"
   },
   {
    "duration": 4409,
    "start_time": "2023-03-24T08:32:31.243Z"
   },
   {
    "duration": 3488,
    "start_time": "2023-03-24T08:32:35.654Z"
   },
   {
    "duration": 5,
    "start_time": "2023-03-24T08:32:39.144Z"
   },
   {
    "duration": 0,
    "start_time": "2023-03-24T08:32:39.151Z"
   },
   {
    "duration": 0,
    "start_time": "2023-03-24T08:32:39.153Z"
   },
   {
    "duration": 0,
    "start_time": "2023-03-24T08:32:39.154Z"
   },
   {
    "duration": 0,
    "start_time": "2023-03-24T08:32:39.156Z"
   },
   {
    "duration": 6119,
    "start_time": "2023-03-24T08:34:55.164Z"
   },
   {
    "duration": 1481,
    "start_time": "2023-03-24T08:35:03.861Z"
   },
   {
    "duration": 3841,
    "start_time": "2023-03-24T08:35:22.116Z"
   },
   {
    "duration": 1650,
    "start_time": "2023-03-24T08:35:35.177Z"
   },
   {
    "duration": 2945,
    "start_time": "2023-03-24T08:44:05.218Z"
   },
   {
    "duration": 3947,
    "start_time": "2023-03-24T08:45:46.732Z"
   },
   {
    "duration": 1050,
    "start_time": "2023-03-24T08:45:50.819Z"
   },
   {
    "duration": 217,
    "start_time": "2023-03-24T08:47:21.184Z"
   },
   {
    "duration": 789,
    "start_time": "2023-03-24T08:47:39.259Z"
   },
   {
    "duration": 2663,
    "start_time": "2023-03-24T08:47:43.178Z"
   },
   {
    "duration": 117,
    "start_time": "2023-03-25T04:33:49.128Z"
   },
   {
    "duration": 765,
    "start_time": "2023-03-25T05:12:32.081Z"
   },
   {
    "duration": 15553,
    "start_time": "2023-03-25T05:12:32.848Z"
   },
   {
    "duration": 9887,
    "start_time": "2023-03-25T05:12:48.403Z"
   },
   {
    "duration": 730,
    "start_time": "2023-03-25T05:12:58.292Z"
   },
   {
    "duration": 1492,
    "start_time": "2023-03-25T05:12:59.024Z"
   },
   {
    "duration": 580,
    "start_time": "2023-03-25T05:13:00.519Z"
   },
   {
    "duration": 502,
    "start_time": "2023-03-25T05:13:01.102Z"
   },
   {
    "duration": 489,
    "start_time": "2023-03-25T05:13:01.606Z"
   },
   {
    "duration": 520,
    "start_time": "2023-03-25T05:13:02.097Z"
   },
   {
    "duration": 491,
    "start_time": "2023-03-25T05:13:02.619Z"
   },
   {
    "duration": 481,
    "start_time": "2023-03-25T05:13:03.112Z"
   },
   {
    "duration": 401,
    "start_time": "2023-03-25T05:13:03.595Z"
   },
   {
    "duration": 491,
    "start_time": "2023-03-25T05:13:03.998Z"
   },
   {
    "duration": 517,
    "start_time": "2023-03-25T05:13:04.493Z"
   },
   {
    "duration": 779,
    "start_time": "2023-03-25T05:13:05.012Z"
   },
   {
    "duration": 34,
    "start_time": "2023-03-25T05:13:05.794Z"
   },
   {
    "duration": 33,
    "start_time": "2023-03-25T05:13:05.888Z"
   },
   {
    "duration": 368,
    "start_time": "2023-03-25T05:13:05.924Z"
   },
   {
    "duration": 5,
    "start_time": "2023-03-25T05:13:06.294Z"
   },
   {
    "duration": 2309,
    "start_time": "2023-03-25T05:13:06.301Z"
   },
   {
    "duration": 208,
    "start_time": "2023-03-25T05:13:08.612Z"
   },
   {
    "duration": 12,
    "start_time": "2023-03-25T05:22:58.686Z"
   },
   {
    "duration": 1445,
    "start_time": "2023-03-25T05:23:05.679Z"
   },
   {
    "duration": 2403,
    "start_time": "2023-03-25T05:25:33.720Z"
   },
   {
    "duration": 801,
    "start_time": "2023-03-25T05:36:40.900Z"
   },
   {
    "duration": 789,
    "start_time": "2023-03-25T05:36:54.648Z"
   },
   {
    "duration": 842,
    "start_time": "2023-03-25T05:37:06.414Z"
   },
   {
    "duration": 5,
    "start_time": "2023-03-25T05:41:07.752Z"
   },
   {
    "duration": 14,
    "start_time": "2023-03-25T05:41:07.759Z"
   },
   {
    "duration": 649,
    "start_time": "2023-03-25T05:41:07.775Z"
   },
   {
    "duration": 268,
    "start_time": "2023-03-25T05:41:08.426Z"
   },
   {
    "duration": 211,
    "start_time": "2023-03-25T05:41:08.696Z"
   },
   {
    "duration": 225,
    "start_time": "2023-03-25T05:41:08.909Z"
   },
   {
    "duration": 269,
    "start_time": "2023-03-25T05:41:09.136Z"
   },
   {
    "duration": 295,
    "start_time": "2023-03-25T05:41:09.408Z"
   },
   {
    "duration": 392,
    "start_time": "2023-03-25T05:41:09.705Z"
   },
   {
    "duration": 302,
    "start_time": "2023-03-25T05:41:10.099Z"
   },
   {
    "duration": 243,
    "start_time": "2023-03-25T05:41:10.404Z"
   },
   {
    "duration": 282,
    "start_time": "2023-03-25T05:41:10.649Z"
   },
   {
    "duration": 266,
    "start_time": "2023-03-25T05:41:10.933Z"
   },
   {
    "duration": 198,
    "start_time": "2023-03-25T05:41:11.200Z"
   },
   {
    "duration": 237,
    "start_time": "2023-03-25T05:41:11.400Z"
   },
   {
    "duration": 14,
    "start_time": "2023-03-25T05:41:11.689Z"
   },
   {
    "duration": 15,
    "start_time": "2023-03-25T05:41:11.706Z"
   },
   {
    "duration": 165,
    "start_time": "2023-03-25T05:41:11.723Z"
   },
   {
    "duration": 3,
    "start_time": "2023-03-25T05:41:11.890Z"
   },
   {
    "duration": 12,
    "start_time": "2023-03-25T05:41:11.895Z"
   },
   {
    "duration": 620,
    "start_time": "2023-03-25T05:41:17.899Z"
   },
   {
    "duration": 668,
    "start_time": "2023-03-25T05:41:41.319Z"
   },
   {
    "duration": 12,
    "start_time": "2023-03-25T05:41:48.562Z"
   },
   {
    "duration": 513,
    "start_time": "2023-03-25T05:42:38.697Z"
   },
   {
    "duration": 582,
    "start_time": "2023-03-25T05:43:10.525Z"
   },
   {
    "duration": 686,
    "start_time": "2023-03-25T05:44:44.043Z"
   },
   {
    "duration": 823,
    "start_time": "2023-03-25T05:47:49.124Z"
   },
   {
    "duration": 710,
    "start_time": "2023-03-25T05:47:57.711Z"
   },
   {
    "duration": 735,
    "start_time": "2023-03-25T05:48:15.531Z"
   },
   {
    "duration": 38,
    "start_time": "2023-03-25T05:59:57.288Z"
   },
   {
    "duration": 40,
    "start_time": "2023-03-25T06:01:06.519Z"
   },
   {
    "duration": 120,
    "start_time": "2023-03-25T06:02:56.193Z"
   },
   {
    "duration": 109,
    "start_time": "2023-03-25T06:05:58.002Z"
   },
   {
    "duration": 6,
    "start_time": "2023-03-25T06:06:35.044Z"
   },
   {
    "duration": 17,
    "start_time": "2023-03-25T06:06:35.057Z"
   },
   {
    "duration": 446,
    "start_time": "2023-03-25T06:06:35.077Z"
   },
   {
    "duration": 204,
    "start_time": "2023-03-25T06:06:35.525Z"
   },
   {
    "duration": 163,
    "start_time": "2023-03-25T06:06:35.731Z"
   },
   {
    "duration": 196,
    "start_time": "2023-03-25T06:06:35.896Z"
   },
   {
    "duration": 196,
    "start_time": "2023-03-25T06:06:36.095Z"
   },
   {
    "duration": 218,
    "start_time": "2023-03-25T06:06:36.293Z"
   },
   {
    "duration": 206,
    "start_time": "2023-03-25T06:06:36.513Z"
   },
   {
    "duration": 188,
    "start_time": "2023-03-25T06:06:36.721Z"
   },
   {
    "duration": 284,
    "start_time": "2023-03-25T06:06:36.911Z"
   },
   {
    "duration": 208,
    "start_time": "2023-03-25T06:06:37.197Z"
   },
   {
    "duration": 292,
    "start_time": "2023-03-25T06:06:37.407Z"
   },
   {
    "duration": 201,
    "start_time": "2023-03-25T06:06:37.702Z"
   },
   {
    "duration": 220,
    "start_time": "2023-03-25T06:06:37.906Z"
   },
   {
    "duration": 13,
    "start_time": "2023-03-25T06:06:38.128Z"
   },
   {
    "duration": 23,
    "start_time": "2023-03-25T06:06:38.187Z"
   },
   {
    "duration": 112,
    "start_time": "2023-03-25T06:06:38.213Z"
   },
   {
    "duration": 4,
    "start_time": "2023-03-25T06:06:38.389Z"
   },
   {
    "duration": 19,
    "start_time": "2023-03-25T06:06:38.395Z"
   },
   {
    "duration": 714,
    "start_time": "2023-03-25T06:06:38.416Z"
   },
   {
    "duration": 775,
    "start_time": "2023-03-25T06:06:39.132Z"
   },
   {
    "duration": 503,
    "start_time": "2023-03-25T06:06:39.910Z"
   },
   {
    "duration": 461,
    "start_time": "2023-03-25T06:06:48.955Z"
   },
   {
    "duration": 793,
    "start_time": "2023-03-25T06:06:55.920Z"
   },
   {
    "duration": 50,
    "start_time": "2023-03-25T06:07:12.261Z"
   },
   {
    "duration": 620,
    "start_time": "2023-03-25T06:10:14.783Z"
   },
   {
    "duration": 119,
    "start_time": "2023-03-25T06:13:49.034Z"
   },
   {
    "duration": 0,
    "start_time": "2023-03-25T06:16:58.067Z"
   },
   {
    "duration": 145,
    "start_time": "2023-03-25T06:17:02.299Z"
   },
   {
    "duration": 212,
    "start_time": "2023-03-25T06:20:19.362Z"
   },
   {
    "duration": 122,
    "start_time": "2023-03-25T06:20:44.331Z"
   },
   {
    "duration": 183,
    "start_time": "2023-03-25T06:22:55.251Z"
   },
   {
    "duration": 116,
    "start_time": "2023-03-25T06:25:52.414Z"
   },
   {
    "duration": 152,
    "start_time": "2023-03-25T06:26:03.676Z"
   },
   {
    "duration": 117,
    "start_time": "2023-03-25T06:27:47.136Z"
   },
   {
    "duration": 148,
    "start_time": "2023-03-25T06:28:03.230Z"
   },
   {
    "duration": 114,
    "start_time": "2023-03-25T06:28:25.977Z"
   },
   {
    "duration": 106,
    "start_time": "2023-03-25T06:29:12.541Z"
   },
   {
    "duration": 5,
    "start_time": "2023-03-25T07:00:06.872Z"
   },
   {
    "duration": 4,
    "start_time": "2023-03-25T07:00:07.066Z"
   },
   {
    "duration": 527,
    "start_time": "2023-03-25T07:00:07.135Z"
   },
   {
    "duration": 173,
    "start_time": "2023-03-25T07:00:07.665Z"
   },
   {
    "duration": 198,
    "start_time": "2023-03-25T07:00:07.840Z"
   },
   {
    "duration": 194,
    "start_time": "2023-03-25T07:00:08.041Z"
   },
   {
    "duration": 142,
    "start_time": "2023-03-25T07:00:08.237Z"
   },
   {
    "duration": 207,
    "start_time": "2023-03-25T07:00:08.389Z"
   },
   {
    "duration": 209,
    "start_time": "2023-03-25T07:00:08.598Z"
   },
   {
    "duration": 195,
    "start_time": "2023-03-25T07:00:08.809Z"
   },
   {
    "duration": 157,
    "start_time": "2023-03-25T07:00:09.006Z"
   },
   {
    "duration": 221,
    "start_time": "2023-03-25T07:00:09.167Z"
   },
   {
    "duration": 182,
    "start_time": "2023-03-25T07:00:09.390Z"
   },
   {
    "duration": 234,
    "start_time": "2023-03-25T07:00:09.593Z"
   },
   {
    "duration": 204,
    "start_time": "2023-03-25T07:00:09.829Z"
   },
   {
    "duration": 12,
    "start_time": "2023-03-25T07:00:10.035Z"
   },
   {
    "duration": 22,
    "start_time": "2023-03-25T07:00:10.089Z"
   },
   {
    "duration": 90,
    "start_time": "2023-03-25T07:00:10.113Z"
   },
   {
    "duration": 11,
    "start_time": "2023-03-25T07:00:10.205Z"
   },
   {
    "duration": 31,
    "start_time": "2023-03-25T07:00:10.218Z"
   },
   {
    "duration": 600,
    "start_time": "2023-03-25T07:00:10.251Z"
   },
   {
    "duration": 656,
    "start_time": "2023-03-25T07:00:10.852Z"
   },
   {
    "duration": 1104,
    "start_time": "2023-03-25T07:00:21.936Z"
   },
   {
    "duration": 828,
    "start_time": "2023-03-25T09:38:01.708Z"
   },
   {
    "duration": 19095,
    "start_time": "2023-03-25T09:38:02.538Z"
   },
   {
    "duration": 12140,
    "start_time": "2023-03-25T09:38:21.688Z"
   },
   {
    "duration": 1089,
    "start_time": "2023-03-25T09:38:33.830Z"
   },
   {
    "duration": 1900,
    "start_time": "2023-03-25T09:38:34.922Z"
   },
   {
    "duration": 697,
    "start_time": "2023-03-25T09:38:36.824Z"
   },
   {
    "duration": 524,
    "start_time": "2023-03-25T09:38:37.586Z"
   },
   {
    "duration": 482,
    "start_time": "2023-03-25T09:38:38.111Z"
   },
   {
    "duration": 537,
    "start_time": "2023-03-25T09:38:38.594Z"
   },
   {
    "duration": 404,
    "start_time": "2023-03-25T09:38:39.186Z"
   },
   {
    "duration": 351,
    "start_time": "2023-03-25T09:38:39.592Z"
   },
   {
    "duration": 454,
    "start_time": "2023-03-25T09:38:39.945Z"
   },
   {
    "duration": 512,
    "start_time": "2023-03-25T09:38:40.405Z"
   },
   {
    "duration": 502,
    "start_time": "2023-03-25T09:38:40.922Z"
   },
   {
    "duration": 798,
    "start_time": "2023-03-25T09:38:41.426Z"
   },
   {
    "duration": 87,
    "start_time": "2023-03-25T09:38:42.226Z"
   },
   {
    "duration": 97,
    "start_time": "2023-03-25T09:38:42.316Z"
   },
   {
    "duration": 293,
    "start_time": "2023-03-25T09:38:42.415Z"
   },
   {
    "duration": 9,
    "start_time": "2023-03-25T09:38:42.710Z"
   },
   {
    "duration": 2598,
    "start_time": "2023-03-25T09:38:42.721Z"
   },
   {
    "duration": 3999,
    "start_time": "2023-03-25T09:38:45.321Z"
   },
   {
    "duration": 1708,
    "start_time": "2023-03-25T09:38:55.034Z"
   },
   {
    "duration": 122,
    "start_time": "2023-03-25T09:55:09.623Z"
   },
   {
    "duration": 64,
    "start_time": "2023-03-25T09:57:59.234Z"
   },
   {
    "duration": 1594,
    "start_time": "2023-03-25T09:59:24.828Z"
   },
   {
    "duration": 47,
    "start_time": "2023-03-25T13:41:08.054Z"
   },
   {
    "duration": 775,
    "start_time": "2023-03-25T13:41:11.836Z"
   },
   {
    "duration": 15278,
    "start_time": "2023-03-25T13:41:12.613Z"
   },
   {
    "duration": 9302,
    "start_time": "2023-03-25T13:41:27.893Z"
   },
   {
    "duration": 870,
    "start_time": "2023-03-25T13:41:37.197Z"
   },
   {
    "duration": 1320,
    "start_time": "2023-03-25T13:41:38.069Z"
   },
   {
    "duration": 601,
    "start_time": "2023-03-25T13:41:39.390Z"
   },
   {
    "duration": 581,
    "start_time": "2023-03-25T13:41:39.993Z"
   },
   {
    "duration": 497,
    "start_time": "2023-03-25T13:41:40.576Z"
   },
   {
    "duration": 504,
    "start_time": "2023-03-25T13:41:41.075Z"
   },
   {
    "duration": 499,
    "start_time": "2023-03-25T13:41:41.582Z"
   },
   {
    "duration": 486,
    "start_time": "2023-03-25T13:41:42.083Z"
   },
   {
    "duration": 417,
    "start_time": "2023-03-25T13:41:42.571Z"
   },
   {
    "duration": 388,
    "start_time": "2023-03-25T13:41:42.990Z"
   },
   {
    "duration": 507,
    "start_time": "2023-03-25T13:41:43.380Z"
   },
   {
    "duration": 703,
    "start_time": "2023-03-25T13:41:43.889Z"
   },
   {
    "duration": 89,
    "start_time": "2023-03-25T13:41:44.593Z"
   },
   {
    "duration": 82,
    "start_time": "2023-03-25T13:41:44.683Z"
   },
   {
    "duration": 207,
    "start_time": "2023-03-25T13:41:44.767Z"
   },
   {
    "duration": 3,
    "start_time": "2023-03-25T13:41:44.975Z"
   },
   {
    "duration": 1887,
    "start_time": "2023-03-25T13:41:44.980Z"
   },
   {
    "duration": 3025,
    "start_time": "2023-03-25T13:41:46.869Z"
   },
   {
    "duration": 1494,
    "start_time": "2023-03-25T13:41:49.896Z"
   },
   {
    "duration": 118,
    "start_time": "2023-03-25T13:41:51.392Z"
   },
   {
    "duration": 159,
    "start_time": "2023-03-25T13:41:51.512Z"
   },
   {
    "duration": 1318,
    "start_time": "2023-03-25T13:41:51.673Z"
   },
   {
    "duration": 1124,
    "start_time": "2023-03-25T13:41:56.290Z"
   },
   {
    "duration": 957,
    "start_time": "2023-03-25T13:43:26.206Z"
   },
   {
    "duration": 946,
    "start_time": "2023-03-25T13:46:04.172Z"
   },
   {
    "duration": 3123,
    "start_time": "2023-03-25T13:46:44.870Z"
   },
   {
    "duration": 507,
    "start_time": "2023-03-25T13:46:58.098Z"
   },
   {
    "duration": 2101,
    "start_time": "2023-03-25T13:47:35.867Z"
   },
   {
    "duration": 429,
    "start_time": "2023-03-25T13:47:41.174Z"
   },
   {
    "duration": 50,
    "start_time": "2023-03-25T14:03:42.343Z"
   },
   {
    "duration": 7,
    "start_time": "2023-03-25T14:06:12.574Z"
   },
   {
    "duration": 12,
    "start_time": "2023-03-25T14:08:39.509Z"
   },
   {
    "duration": 9,
    "start_time": "2023-03-25T14:12:11.376Z"
   },
   {
    "duration": 10,
    "start_time": "2023-03-25T14:13:24.167Z"
   },
   {
    "duration": 1504,
    "start_time": "2023-03-25T14:15:22.762Z"
   },
   {
    "duration": 83,
    "start_time": "2023-03-25T14:17:36.710Z"
   },
   {
    "duration": 9,
    "start_time": "2023-03-25T14:20:50.165Z"
   },
   {
    "duration": 7,
    "start_time": "2023-03-25T14:21:32.769Z"
   },
   {
    "duration": 6,
    "start_time": "2023-03-25T14:22:44.230Z"
   },
   {
    "duration": 5,
    "start_time": "2023-03-25T14:25:59.770Z"
   },
   {
    "duration": 345,
    "start_time": "2023-03-25T14:29:09.962Z"
   },
   {
    "duration": 358,
    "start_time": "2023-03-25T14:47:08.927Z"
   },
   {
    "duration": 1862,
    "start_time": "2023-03-25T14:48:51.421Z"
   },
   {
    "duration": 376,
    "start_time": "2023-03-25T14:48:58.308Z"
   },
   {
    "duration": 6,
    "start_time": "2023-03-25T14:49:07.773Z"
   },
   {
    "duration": 205,
    "start_time": "2023-03-25T14:49:31.524Z"
   },
   {
    "duration": 703,
    "start_time": "2023-03-25T14:49:57.010Z"
   },
   {
    "duration": 15049,
    "start_time": "2023-03-25T14:49:57.715Z"
   },
   {
    "duration": 8621,
    "start_time": "2023-03-25T14:50:12.766Z"
   },
   {
    "duration": 779,
    "start_time": "2023-03-25T14:50:21.389Z"
   },
   {
    "duration": 1392,
    "start_time": "2023-03-25T14:50:22.170Z"
   },
   {
    "duration": 503,
    "start_time": "2023-03-25T14:50:23.564Z"
   },
   {
    "duration": 519,
    "start_time": "2023-03-25T14:50:24.069Z"
   },
   {
    "duration": 485,
    "start_time": "2023-03-25T14:50:24.589Z"
   },
   {
    "duration": 505,
    "start_time": "2023-03-25T14:50:25.076Z"
   },
   {
    "duration": 500,
    "start_time": "2023-03-25T14:50:25.585Z"
   },
   {
    "duration": 376,
    "start_time": "2023-03-25T14:50:26.087Z"
   },
   {
    "duration": 397,
    "start_time": "2023-03-25T14:50:26.465Z"
   },
   {
    "duration": 499,
    "start_time": "2023-03-25T14:50:26.864Z"
   },
   {
    "duration": 417,
    "start_time": "2023-03-25T14:50:27.365Z"
   },
   {
    "duration": 603,
    "start_time": "2023-03-25T14:50:27.784Z"
   },
   {
    "duration": 96,
    "start_time": "2023-03-25T14:50:28.389Z"
   },
   {
    "duration": 97,
    "start_time": "2023-03-25T14:50:28.488Z"
   },
   {
    "duration": 201,
    "start_time": "2023-03-25T14:50:28.587Z"
   },
   {
    "duration": 4,
    "start_time": "2023-03-25T14:50:28.790Z"
   },
   {
    "duration": 1911,
    "start_time": "2023-03-25T14:50:28.861Z"
   },
   {
    "duration": 2821,
    "start_time": "2023-03-25T14:50:30.775Z"
   },
   {
    "duration": 1722,
    "start_time": "2023-03-25T14:50:33.599Z"
   },
   {
    "duration": 156,
    "start_time": "2023-03-25T14:50:35.323Z"
   },
   {
    "duration": 181,
    "start_time": "2023-03-25T14:50:35.481Z"
   },
   {
    "duration": 1317,
    "start_time": "2023-03-25T14:50:35.665Z"
   },
   {
    "duration": 1254,
    "start_time": "2023-03-25T14:50:36.984Z"
   },
   {
    "duration": 1073,
    "start_time": "2023-03-25T14:50:38.262Z"
   },
   {
    "duration": 1099,
    "start_time": "2023-03-25T14:50:39.362Z"
   },
   {
    "duration": 3417,
    "start_time": "2023-03-25T14:50:40.464Z"
   },
   {
    "duration": 893,
    "start_time": "2023-03-25T14:50:43.883Z"
   },
   {
    "duration": 7,
    "start_time": "2023-03-25T14:50:44.778Z"
   },
   {
    "duration": 2297,
    "start_time": "2023-03-25T14:50:44.787Z"
   },
   {
    "duration": 580,
    "start_time": "2023-03-25T14:50:47.086Z"
   },
   {
    "duration": 6,
    "start_time": "2023-03-25T14:50:47.668Z"
   },
   {
    "duration": 495,
    "start_time": "2023-03-25T14:50:47.676Z"
   },
   {
    "duration": 88,
    "start_time": "2023-03-25T14:51:03.122Z"
   },
   {
    "duration": 19,
    "start_time": "2023-03-25T14:51:32.321Z"
   },
   {
    "duration": 24,
    "start_time": "2023-03-25T14:51:51.917Z"
   },
   {
    "duration": 720,
    "start_time": "2023-03-25T14:53:06.501Z"
   },
   {
    "duration": 15438,
    "start_time": "2023-03-25T14:53:07.224Z"
   },
   {
    "duration": 9519,
    "start_time": "2023-03-25T14:53:22.664Z"
   },
   {
    "duration": 696,
    "start_time": "2023-03-25T14:53:32.185Z"
   },
   {
    "duration": 1589,
    "start_time": "2023-03-25T14:53:32.883Z"
   },
   {
    "duration": 423,
    "start_time": "2023-03-25T14:53:34.474Z"
   },
   {
    "duration": 408,
    "start_time": "2023-03-25T14:53:34.962Z"
   },
   {
    "duration": 396,
    "start_time": "2023-03-25T14:53:35.371Z"
   },
   {
    "duration": 413,
    "start_time": "2023-03-25T14:53:35.769Z"
   },
   {
    "duration": 391,
    "start_time": "2023-03-25T14:53:36.184Z"
   },
   {
    "duration": 408,
    "start_time": "2023-03-25T14:53:36.576Z"
   },
   {
    "duration": 376,
    "start_time": "2023-03-25T14:53:36.986Z"
   },
   {
    "duration": 303,
    "start_time": "2023-03-25T14:53:37.364Z"
   },
   {
    "duration": 406,
    "start_time": "2023-03-25T14:53:37.669Z"
   },
   {
    "duration": 687,
    "start_time": "2023-03-25T14:53:38.076Z"
   },
   {
    "duration": 24,
    "start_time": "2023-03-25T14:53:38.765Z"
   },
   {
    "duration": 95,
    "start_time": "2023-03-25T14:53:38.791Z"
   },
   {
    "duration": 276,
    "start_time": "2023-03-25T14:53:38.888Z"
   },
   {
    "duration": 4,
    "start_time": "2023-03-25T14:53:39.166Z"
   },
   {
    "duration": 1905,
    "start_time": "2023-03-25T14:53:39.172Z"
   },
   {
    "duration": 2799,
    "start_time": "2023-03-25T14:53:41.079Z"
   },
   {
    "duration": 1484,
    "start_time": "2023-03-25T14:53:43.880Z"
   },
   {
    "duration": 111,
    "start_time": "2023-03-25T14:53:45.366Z"
   },
   {
    "duration": 108,
    "start_time": "2023-03-25T14:53:45.479Z"
   },
   {
    "duration": 1196,
    "start_time": "2023-03-25T14:53:45.589Z"
   },
   {
    "duration": 1206,
    "start_time": "2023-03-25T14:53:46.787Z"
   },
   {
    "duration": 825,
    "start_time": "2023-03-25T14:53:47.995Z"
   },
   {
    "duration": 1045,
    "start_time": "2023-03-25T14:53:48.824Z"
   },
   {
    "duration": 2917,
    "start_time": "2023-03-25T14:53:49.871Z"
   },
   {
    "duration": 527,
    "start_time": "2023-03-25T14:53:52.790Z"
   },
   {
    "duration": 8,
    "start_time": "2023-03-25T14:53:53.319Z"
   },
   {
    "duration": 2057,
    "start_time": "2023-03-25T14:53:53.328Z"
   },
   {
    "duration": 515,
    "start_time": "2023-03-25T14:53:55.386Z"
   },
   {
    "duration": 6,
    "start_time": "2023-03-25T14:53:55.961Z"
   },
   {
    "duration": 513,
    "start_time": "2023-03-25T14:53:55.969Z"
   },
   {
    "duration": 5,
    "start_time": "2023-03-25T14:54:52.967Z"
   },
   {
    "duration": 305,
    "start_time": "2023-03-25T15:02:41.137Z"
   },
   {
    "duration": 6,
    "start_time": "2023-03-25T15:05:05.186Z"
   },
   {
    "duration": 264,
    "start_time": "2023-03-25T15:05:06.539Z"
   },
   {
    "duration": 569,
    "start_time": "2023-03-25T15:05:06.805Z"
   },
   {
    "duration": 135,
    "start_time": "2023-03-25T15:05:07.376Z"
   },
   {
    "duration": 260,
    "start_time": "2023-03-25T15:05:07.513Z"
   },
   {
    "duration": 241,
    "start_time": "2023-03-25T15:05:07.775Z"
   },
   {
    "duration": 201,
    "start_time": "2023-03-25T15:05:08.018Z"
   },
   {
    "duration": 248,
    "start_time": "2023-03-25T15:05:08.220Z"
   },
   {
    "duration": 230,
    "start_time": "2023-03-25T15:05:08.469Z"
   },
   {
    "duration": 270,
    "start_time": "2023-03-25T15:05:08.701Z"
   },
   {
    "duration": 205,
    "start_time": "2023-03-25T15:05:08.972Z"
   },
   {
    "duration": 189,
    "start_time": "2023-03-25T15:05:09.178Z"
   },
   {
    "duration": 159,
    "start_time": "2023-03-25T15:05:09.369Z"
   },
   {
    "duration": 241,
    "start_time": "2023-03-25T15:05:09.530Z"
   },
   {
    "duration": 191,
    "start_time": "2023-03-25T15:05:09.773Z"
   },
   {
    "duration": 9,
    "start_time": "2023-03-25T15:05:09.966Z"
   },
   {
    "duration": 11,
    "start_time": "2023-03-25T15:05:09.977Z"
   },
   {
    "duration": 90,
    "start_time": "2023-03-25T15:05:09.990Z"
   },
   {
    "duration": 3,
    "start_time": "2023-03-25T15:05:10.081Z"
   },
   {
    "duration": 727,
    "start_time": "2023-03-25T15:05:10.086Z"
   },
   {
    "duration": 1023,
    "start_time": "2023-03-25T15:05:10.815Z"
   },
   {
    "duration": 812,
    "start_time": "2023-03-25T15:05:11.840Z"
   },
   {
    "duration": 28,
    "start_time": "2023-03-25T15:05:12.653Z"
   },
   {
    "duration": 95,
    "start_time": "2023-03-25T15:05:12.683Z"
   },
   {
    "duration": 494,
    "start_time": "2023-03-25T15:05:12.780Z"
   },
   {
    "duration": 627,
    "start_time": "2023-03-25T15:05:13.276Z"
   },
   {
    "duration": 622,
    "start_time": "2023-03-25T15:05:13.905Z"
   },
   {
    "duration": 655,
    "start_time": "2023-03-25T15:05:14.529Z"
   },
   {
    "duration": 1519,
    "start_time": "2023-03-25T15:05:15.186Z"
   },
   {
    "duration": 385,
    "start_time": "2023-03-25T15:05:16.706Z"
   },
   {
    "duration": 9,
    "start_time": "2023-03-25T15:05:17.093Z"
   },
   {
    "duration": 1380,
    "start_time": "2023-03-25T15:05:17.104Z"
   },
   {
    "duration": 294,
    "start_time": "2023-03-25T15:05:18.485Z"
   },
   {
    "duration": 6,
    "start_time": "2023-03-25T15:05:18.781Z"
   },
   {
    "duration": 493,
    "start_time": "2023-03-25T15:05:18.788Z"
   },
   {
    "duration": 732,
    "start_time": "2023-03-25T15:05:44.681Z"
   },
   {
    "duration": 15692,
    "start_time": "2023-03-25T15:05:45.414Z"
   },
   {
    "duration": 9128,
    "start_time": "2023-03-25T15:06:01.163Z"
   },
   {
    "duration": 784,
    "start_time": "2023-03-25T15:06:10.294Z"
   },
   {
    "duration": 1236,
    "start_time": "2023-03-25T15:06:11.080Z"
   },
   {
    "duration": 412,
    "start_time": "2023-03-25T15:06:12.363Z"
   },
   {
    "duration": 489,
    "start_time": "2023-03-25T15:06:12.777Z"
   },
   {
    "duration": 404,
    "start_time": "2023-03-25T15:06:13.268Z"
   },
   {
    "duration": 488,
    "start_time": "2023-03-25T15:06:13.674Z"
   },
   {
    "duration": 397,
    "start_time": "2023-03-25T15:06:14.166Z"
   },
   {
    "duration": 332,
    "start_time": "2023-03-25T15:06:14.565Z"
   },
   {
    "duration": 381,
    "start_time": "2023-03-25T15:06:14.899Z"
   },
   {
    "duration": 318,
    "start_time": "2023-03-25T15:06:15.282Z"
   },
   {
    "duration": 402,
    "start_time": "2023-03-25T15:06:15.602Z"
   },
   {
    "duration": 616,
    "start_time": "2023-03-25T15:06:16.063Z"
   },
   {
    "duration": 80,
    "start_time": "2023-03-25T15:06:16.682Z"
   },
   {
    "duration": 28,
    "start_time": "2023-03-25T15:06:16.764Z"
   },
   {
    "duration": 277,
    "start_time": "2023-03-25T15:06:16.794Z"
   },
   {
    "duration": 4,
    "start_time": "2023-03-25T15:06:17.073Z"
   },
   {
    "duration": 1617,
    "start_time": "2023-03-25T15:06:17.078Z"
   },
   {
    "duration": 2779,
    "start_time": "2023-03-25T15:06:18.697Z"
   },
   {
    "duration": 1459,
    "start_time": "2023-03-25T15:06:21.478Z"
   },
   {
    "duration": 73,
    "start_time": "2023-03-25T15:06:22.939Z"
   },
   {
    "duration": 108,
    "start_time": "2023-03-25T15:06:23.062Z"
   },
   {
    "duration": 1223,
    "start_time": "2023-03-25T15:06:23.172Z"
   },
   {
    "duration": 1266,
    "start_time": "2023-03-25T15:06:24.397Z"
   },
   {
    "duration": 1052,
    "start_time": "2023-03-25T15:06:25.665Z"
   },
   {
    "duration": 986,
    "start_time": "2023-03-25T15:06:26.720Z"
   },
   {
    "duration": 2866,
    "start_time": "2023-03-25T15:06:27.708Z"
   },
   {
    "duration": 698,
    "start_time": "2023-03-25T15:06:30.576Z"
   },
   {
    "duration": 8,
    "start_time": "2023-03-25T15:06:31.276Z"
   },
   {
    "duration": 2176,
    "start_time": "2023-03-25T15:06:31.286Z"
   },
   {
    "duration": 448,
    "start_time": "2023-03-25T15:06:33.464Z"
   },
   {
    "duration": 6,
    "start_time": "2023-03-25T15:06:33.914Z"
   },
   {
    "duration": 473,
    "start_time": "2023-03-25T15:06:33.922Z"
   }
  ],
  "colab": {
   "name": "PySparkSprint.ipynb",
   "provenance": []
  },
  "kernelspec": {
   "display_name": "Python 3 (ipykernel)",
   "language": "python",
   "name": "python3"
  },
  "language_info": {
   "codemirror_mode": {
    "name": "ipython",
    "version": 3
   },
   "file_extension": ".py",
   "mimetype": "text/x-python",
   "name": "python",
   "nbconvert_exporter": "python",
   "pygments_lexer": "ipython3",
   "version": "3.9.13"
  },
  "toc": {
   "base_numbering": 1,
   "nav_menu": {},
   "number_sections": true,
   "sideBar": true,
   "skip_h1_title": true,
   "title_cell": "Table of Contents",
   "title_sidebar": "Contents",
   "toc_cell": false,
   "toc_position": {
    "height": "calc(100% - 180px)",
    "left": "10px",
    "top": "150px",
    "width": "165px"
   },
   "toc_section_display": true,
   "toc_window_display": true
  }
 },
 "nbformat": 4,
 "nbformat_minor": 5
}
